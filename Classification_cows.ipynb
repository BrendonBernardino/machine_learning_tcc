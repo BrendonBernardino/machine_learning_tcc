{
  "nbformat": 4,
  "nbformat_minor": 0,
  "metadata": {
    "colab": {
      "provenance": [],
      "gpuType": "T4",
      "authorship_tag": "ABX9TyNo4NukvDqzzuaWQWVbfDO6",
      "include_colab_link": true
    },
    "kernelspec": {
      "name": "python3",
      "display_name": "Python 3"
    },
    "language_info": {
      "name": "python"
    },
    "accelerator": "GPU"
  },
  "cells": [
    {
      "cell_type": "markdown",
      "metadata": {
        "id": "view-in-github",
        "colab_type": "text"
      },
      "source": [
        "<a href=\"https://colab.research.google.com/github/BrendonBernardino/pixel_classification_cow/blob/master/Classification_cows.ipynb\" target=\"_parent\"><img src=\"https://colab.research.google.com/assets/colab-badge.svg\" alt=\"Open In Colab\"/></a>"
      ]
    },
    {
      "cell_type": "code",
      "execution_count": 1,
      "metadata": {
        "colab": {
          "base_uri": "https://localhost:8080/",
          "height": 35
        },
        "id": "2Lp0MMg-DdTu",
        "outputId": "aceb4eb4-8a69-4e7e-e40f-3ad9068310a2"
      },
      "outputs": [
        {
          "output_type": "execute_result",
          "data": {
            "text/plain": [
              "'2.17.1'"
            ],
            "application/vnd.google.colaboratory.intrinsic+json": {
              "type": "string"
            }
          },
          "metadata": {},
          "execution_count": 1
        }
      ],
      "source": [
        "import cv2 #lib opencv\n",
        "import numpy as np #lib manipulação imagens\n",
        "import os #acesso a recursos do SO\n",
        "import zipfile #base de dados estará em zip pra poder descompactar\n",
        "from google.colab.patches import cv2_imshow\n",
        "import tensorflow as tf\n",
        "import pandas as pd #lib para ler arquivos csv e outros tratamentos\n",
        "import seaborn as sns #lib de visualização de graficos\n",
        "import matplotlib.pyplot as plt #lib de visualização de graficos\n",
        "tf.__version__"
      ]
    },
    {
      "cell_type": "code",
      "source": [
        "from google.colab import drive\n",
        "drive.mount('/content/drive')"
      ],
      "metadata": {
        "id": "a5ZSOHMqHlQr",
        "colab": {
          "base_uri": "https://localhost:8080/"
        },
        "outputId": "48a70727-6287-4177-abd9-c882b41ce42f"
      },
      "execution_count": 2,
      "outputs": [
        {
          "output_type": "stream",
          "name": "stdout",
          "text": [
            "Mounted at /content/drive\n"
          ]
        }
      ]
    },
    {
      "cell_type": "code",
      "source": [
        "diretorio_with_cow = '/content/drive/MyDrive/Dataset_TCC/ESP_Master/with_cow'\n",
        "diretorio_no_cow = '/content/drive/MyDrive/Dataset_TCC/ESP_Master/no_cow'\n",
        "\n",
        "files_with_cow = [os.path.join(diretorio_with_cow, f) for f in sorted(os.listdir(diretorio_with_cow))]\n",
        "files_no_cow = [os.path.join(diretorio_no_cow, f) for f in sorted(os.listdir(diretorio_no_cow))]\n",
        "print(files_with_cow)\n",
        "print(files_no_cow)"
      ],
      "metadata": {
        "id": "qM9oim46HlPy",
        "colab": {
          "base_uri": "https://localhost:8080/"
        },
        "outputId": "87d16687-72fa-43c0-f2b3-bfb0f4199b7d"
      },
      "execution_count": 3,
      "outputs": [
        {
          "output_type": "stream",
          "name": "stdout",
          "text": [
            "['/content/drive/MyDrive/Dataset_TCC/ESP_Master/with_cow/pic100.jpg', '/content/drive/MyDrive/Dataset_TCC/ESP_Master/with_cow/pic102.jpg', '/content/drive/MyDrive/Dataset_TCC/ESP_Master/with_cow/pic106.jpg', '/content/drive/MyDrive/Dataset_TCC/ESP_Master/with_cow/pic109.jpg', '/content/drive/MyDrive/Dataset_TCC/ESP_Master/with_cow/pic110.jpg', '/content/drive/MyDrive/Dataset_TCC/ESP_Master/with_cow/pic111.jpg', '/content/drive/MyDrive/Dataset_TCC/ESP_Master/with_cow/pic112.jpg', '/content/drive/MyDrive/Dataset_TCC/ESP_Master/with_cow/pic113.jpg', '/content/drive/MyDrive/Dataset_TCC/ESP_Master/with_cow/pic115.jpg', '/content/drive/MyDrive/Dataset_TCC/ESP_Master/with_cow/pic116.jpg', '/content/drive/MyDrive/Dataset_TCC/ESP_Master/with_cow/pic117.jpg', '/content/drive/MyDrive/Dataset_TCC/ESP_Master/with_cow/pic118.jpg', '/content/drive/MyDrive/Dataset_TCC/ESP_Master/with_cow/pic12.jpg', '/content/drive/MyDrive/Dataset_TCC/ESP_Master/with_cow/pic122.jpg', '/content/drive/MyDrive/Dataset_TCC/ESP_Master/with_cow/pic123.jpg', '/content/drive/MyDrive/Dataset_TCC/ESP_Master/with_cow/pic124.jpg', '/content/drive/MyDrive/Dataset_TCC/ESP_Master/with_cow/pic125.jpg', '/content/drive/MyDrive/Dataset_TCC/ESP_Master/with_cow/pic126.jpg', '/content/drive/MyDrive/Dataset_TCC/ESP_Master/with_cow/pic127.jpg', '/content/drive/MyDrive/Dataset_TCC/ESP_Master/with_cow/pic128.jpg', '/content/drive/MyDrive/Dataset_TCC/ESP_Master/with_cow/pic129.jpg', '/content/drive/MyDrive/Dataset_TCC/ESP_Master/with_cow/pic13.jpg', '/content/drive/MyDrive/Dataset_TCC/ESP_Master/with_cow/pic130.jpg', '/content/drive/MyDrive/Dataset_TCC/ESP_Master/with_cow/pic131.jpg', '/content/drive/MyDrive/Dataset_TCC/ESP_Master/with_cow/pic132.jpg', '/content/drive/MyDrive/Dataset_TCC/ESP_Master/with_cow/pic133.jpg', '/content/drive/MyDrive/Dataset_TCC/ESP_Master/with_cow/pic134.jpg', '/content/drive/MyDrive/Dataset_TCC/ESP_Master/with_cow/pic135.jpg', '/content/drive/MyDrive/Dataset_TCC/ESP_Master/with_cow/pic14.jpg', '/content/drive/MyDrive/Dataset_TCC/ESP_Master/with_cow/pic140.jpg', '/content/drive/MyDrive/Dataset_TCC/ESP_Master/with_cow/pic143.jpg', '/content/drive/MyDrive/Dataset_TCC/ESP_Master/with_cow/pic144.jpg', '/content/drive/MyDrive/Dataset_TCC/ESP_Master/with_cow/pic145.jpg', '/content/drive/MyDrive/Dataset_TCC/ESP_Master/with_cow/pic146.jpg', '/content/drive/MyDrive/Dataset_TCC/ESP_Master/with_cow/pic147.jpg', '/content/drive/MyDrive/Dataset_TCC/ESP_Master/with_cow/pic148.jpg', '/content/drive/MyDrive/Dataset_TCC/ESP_Master/with_cow/pic149.jpg', '/content/drive/MyDrive/Dataset_TCC/ESP_Master/with_cow/pic150.jpg', '/content/drive/MyDrive/Dataset_TCC/ESP_Master/with_cow/pic151.jpg', '/content/drive/MyDrive/Dataset_TCC/ESP_Master/with_cow/pic153.jpg', '/content/drive/MyDrive/Dataset_TCC/ESP_Master/with_cow/pic154.jpg', '/content/drive/MyDrive/Dataset_TCC/ESP_Master/with_cow/pic155.jpg', '/content/drive/MyDrive/Dataset_TCC/ESP_Master/with_cow/pic156.jpg', '/content/drive/MyDrive/Dataset_TCC/ESP_Master/with_cow/pic157.jpg', '/content/drive/MyDrive/Dataset_TCC/ESP_Master/with_cow/pic158.jpg', '/content/drive/MyDrive/Dataset_TCC/ESP_Master/with_cow/pic159.jpg', '/content/drive/MyDrive/Dataset_TCC/ESP_Master/with_cow/pic160.jpg', '/content/drive/MyDrive/Dataset_TCC/ESP_Master/with_cow/pic161.jpg', '/content/drive/MyDrive/Dataset_TCC/ESP_Master/with_cow/pic162.jpg', '/content/drive/MyDrive/Dataset_TCC/ESP_Master/with_cow/pic165.jpg', '/content/drive/MyDrive/Dataset_TCC/ESP_Master/with_cow/pic166.jpg', '/content/drive/MyDrive/Dataset_TCC/ESP_Master/with_cow/pic171.jpg', '/content/drive/MyDrive/Dataset_TCC/ESP_Master/with_cow/pic172.jpg', '/content/drive/MyDrive/Dataset_TCC/ESP_Master/with_cow/pic173.jpg', '/content/drive/MyDrive/Dataset_TCC/ESP_Master/with_cow/pic176.jpg', '/content/drive/MyDrive/Dataset_TCC/ESP_Master/with_cow/pic177.jpg', '/content/drive/MyDrive/Dataset_TCC/ESP_Master/with_cow/pic178.jpg', '/content/drive/MyDrive/Dataset_TCC/ESP_Master/with_cow/pic179.jpg', '/content/drive/MyDrive/Dataset_TCC/ESP_Master/with_cow/pic180.jpg', '/content/drive/MyDrive/Dataset_TCC/ESP_Master/with_cow/pic181.jpg', '/content/drive/MyDrive/Dataset_TCC/ESP_Master/with_cow/pic182.jpg', '/content/drive/MyDrive/Dataset_TCC/ESP_Master/with_cow/pic183.jpg', '/content/drive/MyDrive/Dataset_TCC/ESP_Master/with_cow/pic184.jpg', '/content/drive/MyDrive/Dataset_TCC/ESP_Master/with_cow/pic185.jpg', '/content/drive/MyDrive/Dataset_TCC/ESP_Master/with_cow/pic186.jpg', '/content/drive/MyDrive/Dataset_TCC/ESP_Master/with_cow/pic189.jpg', '/content/drive/MyDrive/Dataset_TCC/ESP_Master/with_cow/pic190.jpg', '/content/drive/MyDrive/Dataset_TCC/ESP_Master/with_cow/pic191.jpg', '/content/drive/MyDrive/Dataset_TCC/ESP_Master/with_cow/pic192.jpg', '/content/drive/MyDrive/Dataset_TCC/ESP_Master/with_cow/pic193.jpg', '/content/drive/MyDrive/Dataset_TCC/ESP_Master/with_cow/pic194.jpg', '/content/drive/MyDrive/Dataset_TCC/ESP_Master/with_cow/pic195.jpg', '/content/drive/MyDrive/Dataset_TCC/ESP_Master/with_cow/pic196.jpg', '/content/drive/MyDrive/Dataset_TCC/ESP_Master/with_cow/pic197.jpg', '/content/drive/MyDrive/Dataset_TCC/ESP_Master/with_cow/pic198.jpg', '/content/drive/MyDrive/Dataset_TCC/ESP_Master/with_cow/pic199.jpg', '/content/drive/MyDrive/Dataset_TCC/ESP_Master/with_cow/pic20.jpg', '/content/drive/MyDrive/Dataset_TCC/ESP_Master/with_cow/pic200.jpg', '/content/drive/MyDrive/Dataset_TCC/ESP_Master/with_cow/pic202.jpg', '/content/drive/MyDrive/Dataset_TCC/ESP_Master/with_cow/pic204.jpg', '/content/drive/MyDrive/Dataset_TCC/ESP_Master/with_cow/pic205.jpg', '/content/drive/MyDrive/Dataset_TCC/ESP_Master/with_cow/pic206.jpg', '/content/drive/MyDrive/Dataset_TCC/ESP_Master/with_cow/pic208.jpg', '/content/drive/MyDrive/Dataset_TCC/ESP_Master/with_cow/pic21.jpg', '/content/drive/MyDrive/Dataset_TCC/ESP_Master/with_cow/pic211.jpg', '/content/drive/MyDrive/Dataset_TCC/ESP_Master/with_cow/pic212.jpg', '/content/drive/MyDrive/Dataset_TCC/ESP_Master/with_cow/pic214.jpg', '/content/drive/MyDrive/Dataset_TCC/ESP_Master/with_cow/pic215.jpg', '/content/drive/MyDrive/Dataset_TCC/ESP_Master/with_cow/pic217.jpg', '/content/drive/MyDrive/Dataset_TCC/ESP_Master/with_cow/pic218.jpg', '/content/drive/MyDrive/Dataset_TCC/ESP_Master/with_cow/pic219.jpg', '/content/drive/MyDrive/Dataset_TCC/ESP_Master/with_cow/pic22.jpg', '/content/drive/MyDrive/Dataset_TCC/ESP_Master/with_cow/pic220.jpg', '/content/drive/MyDrive/Dataset_TCC/ESP_Master/with_cow/pic221.jpg', '/content/drive/MyDrive/Dataset_TCC/ESP_Master/with_cow/pic222.jpg', '/content/drive/MyDrive/Dataset_TCC/ESP_Master/with_cow/pic223.jpg', '/content/drive/MyDrive/Dataset_TCC/ESP_Master/with_cow/pic224.jpg', '/content/drive/MyDrive/Dataset_TCC/ESP_Master/with_cow/pic225.jpg', '/content/drive/MyDrive/Dataset_TCC/ESP_Master/with_cow/pic226.jpg', '/content/drive/MyDrive/Dataset_TCC/ESP_Master/with_cow/pic227.jpg', '/content/drive/MyDrive/Dataset_TCC/ESP_Master/with_cow/pic228.jpg', '/content/drive/MyDrive/Dataset_TCC/ESP_Master/with_cow/pic229.jpg', '/content/drive/MyDrive/Dataset_TCC/ESP_Master/with_cow/pic23.jpg', '/content/drive/MyDrive/Dataset_TCC/ESP_Master/with_cow/pic230.jpg', '/content/drive/MyDrive/Dataset_TCC/ESP_Master/with_cow/pic231.jpg', '/content/drive/MyDrive/Dataset_TCC/ESP_Master/with_cow/pic232.jpg', '/content/drive/MyDrive/Dataset_TCC/ESP_Master/with_cow/pic233.jpg', '/content/drive/MyDrive/Dataset_TCC/ESP_Master/with_cow/pic234.jpg', '/content/drive/MyDrive/Dataset_TCC/ESP_Master/with_cow/pic235.jpg', '/content/drive/MyDrive/Dataset_TCC/ESP_Master/with_cow/pic236.jpg', '/content/drive/MyDrive/Dataset_TCC/ESP_Master/with_cow/pic237.jpg', '/content/drive/MyDrive/Dataset_TCC/ESP_Master/with_cow/pic238.jpg', '/content/drive/MyDrive/Dataset_TCC/ESP_Master/with_cow/pic24.jpg', '/content/drive/MyDrive/Dataset_TCC/ESP_Master/with_cow/pic243.jpg', '/content/drive/MyDrive/Dataset_TCC/ESP_Master/with_cow/pic245.jpg', '/content/drive/MyDrive/Dataset_TCC/ESP_Master/with_cow/pic246.jpg', '/content/drive/MyDrive/Dataset_TCC/ESP_Master/with_cow/pic247.jpg', '/content/drive/MyDrive/Dataset_TCC/ESP_Master/with_cow/pic248.jpg', '/content/drive/MyDrive/Dataset_TCC/ESP_Master/with_cow/pic249.jpg', '/content/drive/MyDrive/Dataset_TCC/ESP_Master/with_cow/pic250.jpg', '/content/drive/MyDrive/Dataset_TCC/ESP_Master/with_cow/pic251.jpg', '/content/drive/MyDrive/Dataset_TCC/ESP_Master/with_cow/pic252.jpg', '/content/drive/MyDrive/Dataset_TCC/ESP_Master/with_cow/pic253.jpg', '/content/drive/MyDrive/Dataset_TCC/ESP_Master/with_cow/pic254.jpg', '/content/drive/MyDrive/Dataset_TCC/ESP_Master/with_cow/pic255.jpg', '/content/drive/MyDrive/Dataset_TCC/ESP_Master/with_cow/pic256.jpg', '/content/drive/MyDrive/Dataset_TCC/ESP_Master/with_cow/pic258.jpg', '/content/drive/MyDrive/Dataset_TCC/ESP_Master/with_cow/pic259.jpg', '/content/drive/MyDrive/Dataset_TCC/ESP_Master/with_cow/pic261.jpg', '/content/drive/MyDrive/Dataset_TCC/ESP_Master/with_cow/pic262.jpg', '/content/drive/MyDrive/Dataset_TCC/ESP_Master/with_cow/pic263.jpg', '/content/drive/MyDrive/Dataset_TCC/ESP_Master/with_cow/pic265.jpg', '/content/drive/MyDrive/Dataset_TCC/ESP_Master/with_cow/pic266.jpg', '/content/drive/MyDrive/Dataset_TCC/ESP_Master/with_cow/pic267.jpg', '/content/drive/MyDrive/Dataset_TCC/ESP_Master/with_cow/pic268.jpg', '/content/drive/MyDrive/Dataset_TCC/ESP_Master/with_cow/pic269.jpg', '/content/drive/MyDrive/Dataset_TCC/ESP_Master/with_cow/pic270.jpg', '/content/drive/MyDrive/Dataset_TCC/ESP_Master/with_cow/pic271.jpg', '/content/drive/MyDrive/Dataset_TCC/ESP_Master/with_cow/pic272.jpg', '/content/drive/MyDrive/Dataset_TCC/ESP_Master/with_cow/pic273.jpg', '/content/drive/MyDrive/Dataset_TCC/ESP_Master/with_cow/pic274.jpg', '/content/drive/MyDrive/Dataset_TCC/ESP_Master/with_cow/pic275.jpg', '/content/drive/MyDrive/Dataset_TCC/ESP_Master/with_cow/pic276.jpg', '/content/drive/MyDrive/Dataset_TCC/ESP_Master/with_cow/pic279.jpg', '/content/drive/MyDrive/Dataset_TCC/ESP_Master/with_cow/pic280.jpg', '/content/drive/MyDrive/Dataset_TCC/ESP_Master/with_cow/pic281.jpg', '/content/drive/MyDrive/Dataset_TCC/ESP_Master/with_cow/pic284.jpg', '/content/drive/MyDrive/Dataset_TCC/ESP_Master/with_cow/pic285.jpg', '/content/drive/MyDrive/Dataset_TCC/ESP_Master/with_cow/pic286.jpg', '/content/drive/MyDrive/Dataset_TCC/ESP_Master/with_cow/pic287.jpg', '/content/drive/MyDrive/Dataset_TCC/ESP_Master/with_cow/pic291.jpg', '/content/drive/MyDrive/Dataset_TCC/ESP_Master/with_cow/pic294.jpg', '/content/drive/MyDrive/Dataset_TCC/ESP_Master/with_cow/pic295.jpg', '/content/drive/MyDrive/Dataset_TCC/ESP_Master/with_cow/pic296.jpg', '/content/drive/MyDrive/Dataset_TCC/ESP_Master/with_cow/pic297.jpg', '/content/drive/MyDrive/Dataset_TCC/ESP_Master/with_cow/pic298.jpg', '/content/drive/MyDrive/Dataset_TCC/ESP_Master/with_cow/pic299.jpg', '/content/drive/MyDrive/Dataset_TCC/ESP_Master/with_cow/pic3.jpg', '/content/drive/MyDrive/Dataset_TCC/ESP_Master/with_cow/pic302.jpg', '/content/drive/MyDrive/Dataset_TCC/ESP_Master/with_cow/pic303.jpg', '/content/drive/MyDrive/Dataset_TCC/ESP_Master/with_cow/pic305.jpg', '/content/drive/MyDrive/Dataset_TCC/ESP_Master/with_cow/pic306.jpg', '/content/drive/MyDrive/Dataset_TCC/ESP_Master/with_cow/pic307.jpg', '/content/drive/MyDrive/Dataset_TCC/ESP_Master/with_cow/pic308.jpg', '/content/drive/MyDrive/Dataset_TCC/ESP_Master/with_cow/pic314.jpg', '/content/drive/MyDrive/Dataset_TCC/ESP_Master/with_cow/pic315.jpg', '/content/drive/MyDrive/Dataset_TCC/ESP_Master/with_cow/pic317.jpg', '/content/drive/MyDrive/Dataset_TCC/ESP_Master/with_cow/pic318.jpg', '/content/drive/MyDrive/Dataset_TCC/ESP_Master/with_cow/pic319.jpg', '/content/drive/MyDrive/Dataset_TCC/ESP_Master/with_cow/pic32.jpg', '/content/drive/MyDrive/Dataset_TCC/ESP_Master/with_cow/pic320.jpg', '/content/drive/MyDrive/Dataset_TCC/ESP_Master/with_cow/pic321.jpg', '/content/drive/MyDrive/Dataset_TCC/ESP_Master/with_cow/pic322.jpg', '/content/drive/MyDrive/Dataset_TCC/ESP_Master/with_cow/pic323.jpg', '/content/drive/MyDrive/Dataset_TCC/ESP_Master/with_cow/pic324.jpg', '/content/drive/MyDrive/Dataset_TCC/ESP_Master/with_cow/pic327.jpg', '/content/drive/MyDrive/Dataset_TCC/ESP_Master/with_cow/pic329.jpg', '/content/drive/MyDrive/Dataset_TCC/ESP_Master/with_cow/pic330.jpg', '/content/drive/MyDrive/Dataset_TCC/ESP_Master/with_cow/pic331.jpg', '/content/drive/MyDrive/Dataset_TCC/ESP_Master/with_cow/pic333.jpg', '/content/drive/MyDrive/Dataset_TCC/ESP_Master/with_cow/pic334.jpg', '/content/drive/MyDrive/Dataset_TCC/ESP_Master/with_cow/pic335.jpg', '/content/drive/MyDrive/Dataset_TCC/ESP_Master/with_cow/pic336.jpg', '/content/drive/MyDrive/Dataset_TCC/ESP_Master/with_cow/pic337.jpg', '/content/drive/MyDrive/Dataset_TCC/ESP_Master/with_cow/pic338.jpg', '/content/drive/MyDrive/Dataset_TCC/ESP_Master/with_cow/pic339.jpg', '/content/drive/MyDrive/Dataset_TCC/ESP_Master/with_cow/pic340.jpg', '/content/drive/MyDrive/Dataset_TCC/ESP_Master/with_cow/pic341.jpg', '/content/drive/MyDrive/Dataset_TCC/ESP_Master/with_cow/pic342.jpg', '/content/drive/MyDrive/Dataset_TCC/ESP_Master/with_cow/pic343.jpg', '/content/drive/MyDrive/Dataset_TCC/ESP_Master/with_cow/pic344.jpg', '/content/drive/MyDrive/Dataset_TCC/ESP_Master/with_cow/pic345.jpg', '/content/drive/MyDrive/Dataset_TCC/ESP_Master/with_cow/pic346.jpg', '/content/drive/MyDrive/Dataset_TCC/ESP_Master/with_cow/pic347.jpg', '/content/drive/MyDrive/Dataset_TCC/ESP_Master/with_cow/pic348.jpg', '/content/drive/MyDrive/Dataset_TCC/ESP_Master/with_cow/pic350.jpg', '/content/drive/MyDrive/Dataset_TCC/ESP_Master/with_cow/pic354.jpg', '/content/drive/MyDrive/Dataset_TCC/ESP_Master/with_cow/pic355.jpg', '/content/drive/MyDrive/Dataset_TCC/ESP_Master/with_cow/pic359.jpg', '/content/drive/MyDrive/Dataset_TCC/ESP_Master/with_cow/pic360.jpg', '/content/drive/MyDrive/Dataset_TCC/ESP_Master/with_cow/pic361.jpg', '/content/drive/MyDrive/Dataset_TCC/ESP_Master/with_cow/pic362.jpg', '/content/drive/MyDrive/Dataset_TCC/ESP_Master/with_cow/pic363.jpg', '/content/drive/MyDrive/Dataset_TCC/ESP_Master/with_cow/pic364.jpg', '/content/drive/MyDrive/Dataset_TCC/ESP_Master/with_cow/pic365.jpg', '/content/drive/MyDrive/Dataset_TCC/ESP_Master/with_cow/pic366.jpg', '/content/drive/MyDrive/Dataset_TCC/ESP_Master/with_cow/pic367.jpg', '/content/drive/MyDrive/Dataset_TCC/ESP_Master/with_cow/pic368.jpg', '/content/drive/MyDrive/Dataset_TCC/ESP_Master/with_cow/pic37.jpg', '/content/drive/MyDrive/Dataset_TCC/ESP_Master/with_cow/pic370.jpg', '/content/drive/MyDrive/Dataset_TCC/ESP_Master/with_cow/pic372.jpg', '/content/drive/MyDrive/Dataset_TCC/ESP_Master/with_cow/pic374.jpg', '/content/drive/MyDrive/Dataset_TCC/ESP_Master/with_cow/pic375.jpg', '/content/drive/MyDrive/Dataset_TCC/ESP_Master/with_cow/pic376.jpg', '/content/drive/MyDrive/Dataset_TCC/ESP_Master/with_cow/pic377.jpg', '/content/drive/MyDrive/Dataset_TCC/ESP_Master/with_cow/pic378.jpg', '/content/drive/MyDrive/Dataset_TCC/ESP_Master/with_cow/pic379.jpg', '/content/drive/MyDrive/Dataset_TCC/ESP_Master/with_cow/pic38.jpg', '/content/drive/MyDrive/Dataset_TCC/ESP_Master/with_cow/pic380.jpg', '/content/drive/MyDrive/Dataset_TCC/ESP_Master/with_cow/pic381.jpg', '/content/drive/MyDrive/Dataset_TCC/ESP_Master/with_cow/pic382.jpg', '/content/drive/MyDrive/Dataset_TCC/ESP_Master/with_cow/pic385.jpg', '/content/drive/MyDrive/Dataset_TCC/ESP_Master/with_cow/pic386.jpg', '/content/drive/MyDrive/Dataset_TCC/ESP_Master/with_cow/pic387.jpg', '/content/drive/MyDrive/Dataset_TCC/ESP_Master/with_cow/pic388.jpg', '/content/drive/MyDrive/Dataset_TCC/ESP_Master/with_cow/pic389.jpg', '/content/drive/MyDrive/Dataset_TCC/ESP_Master/with_cow/pic390.jpg', '/content/drive/MyDrive/Dataset_TCC/ESP_Master/with_cow/pic391.jpg', '/content/drive/MyDrive/Dataset_TCC/ESP_Master/with_cow/pic392.jpg', '/content/drive/MyDrive/Dataset_TCC/ESP_Master/with_cow/pic393.jpg', '/content/drive/MyDrive/Dataset_TCC/ESP_Master/with_cow/pic394.jpg', '/content/drive/MyDrive/Dataset_TCC/ESP_Master/with_cow/pic395.jpg', '/content/drive/MyDrive/Dataset_TCC/ESP_Master/with_cow/pic397.jpg', '/content/drive/MyDrive/Dataset_TCC/ESP_Master/with_cow/pic399.jpg', '/content/drive/MyDrive/Dataset_TCC/ESP_Master/with_cow/pic4.jpg', '/content/drive/MyDrive/Dataset_TCC/ESP_Master/with_cow/pic400.jpg', '/content/drive/MyDrive/Dataset_TCC/ESP_Master/with_cow/pic401.jpg', '/content/drive/MyDrive/Dataset_TCC/ESP_Master/with_cow/pic402.jpg', '/content/drive/MyDrive/Dataset_TCC/ESP_Master/with_cow/pic403.jpg', '/content/drive/MyDrive/Dataset_TCC/ESP_Master/with_cow/pic404.jpg', '/content/drive/MyDrive/Dataset_TCC/ESP_Master/with_cow/pic405.jpg', '/content/drive/MyDrive/Dataset_TCC/ESP_Master/with_cow/pic406.jpg', '/content/drive/MyDrive/Dataset_TCC/ESP_Master/with_cow/pic407.jpg', '/content/drive/MyDrive/Dataset_TCC/ESP_Master/with_cow/pic408.jpg', '/content/drive/MyDrive/Dataset_TCC/ESP_Master/with_cow/pic409.jpg', '/content/drive/MyDrive/Dataset_TCC/ESP_Master/with_cow/pic41.jpg', '/content/drive/MyDrive/Dataset_TCC/ESP_Master/with_cow/pic410.jpg', '/content/drive/MyDrive/Dataset_TCC/ESP_Master/with_cow/pic411.jpg', '/content/drive/MyDrive/Dataset_TCC/ESP_Master/with_cow/pic412.jpg', '/content/drive/MyDrive/Dataset_TCC/ESP_Master/with_cow/pic413.jpg', '/content/drive/MyDrive/Dataset_TCC/ESP_Master/with_cow/pic414.jpg', '/content/drive/MyDrive/Dataset_TCC/ESP_Master/with_cow/pic415.jpg', '/content/drive/MyDrive/Dataset_TCC/ESP_Master/with_cow/pic416.jpg', '/content/drive/MyDrive/Dataset_TCC/ESP_Master/with_cow/pic417.jpg', '/content/drive/MyDrive/Dataset_TCC/ESP_Master/with_cow/pic418.jpg', '/content/drive/MyDrive/Dataset_TCC/ESP_Master/with_cow/pic419.jpg', '/content/drive/MyDrive/Dataset_TCC/ESP_Master/with_cow/pic42.jpg', '/content/drive/MyDrive/Dataset_TCC/ESP_Master/with_cow/pic420.jpg', '/content/drive/MyDrive/Dataset_TCC/ESP_Master/with_cow/pic421.jpg', '/content/drive/MyDrive/Dataset_TCC/ESP_Master/with_cow/pic422.jpg', '/content/drive/MyDrive/Dataset_TCC/ESP_Master/with_cow/pic423.jpg', '/content/drive/MyDrive/Dataset_TCC/ESP_Master/with_cow/pic424.jpg', '/content/drive/MyDrive/Dataset_TCC/ESP_Master/with_cow/pic425.jpg', '/content/drive/MyDrive/Dataset_TCC/ESP_Master/with_cow/pic426.jpg', '/content/drive/MyDrive/Dataset_TCC/ESP_Master/with_cow/pic427.jpg', '/content/drive/MyDrive/Dataset_TCC/ESP_Master/with_cow/pic428.jpg', '/content/drive/MyDrive/Dataset_TCC/ESP_Master/with_cow/pic429.jpg', '/content/drive/MyDrive/Dataset_TCC/ESP_Master/with_cow/pic430.jpg', '/content/drive/MyDrive/Dataset_TCC/ESP_Master/with_cow/pic431.jpg', '/content/drive/MyDrive/Dataset_TCC/ESP_Master/with_cow/pic432.jpg', '/content/drive/MyDrive/Dataset_TCC/ESP_Master/with_cow/pic433.jpg', '/content/drive/MyDrive/Dataset_TCC/ESP_Master/with_cow/pic434.jpg', '/content/drive/MyDrive/Dataset_TCC/ESP_Master/with_cow/pic435.jpg', '/content/drive/MyDrive/Dataset_TCC/ESP_Master/with_cow/pic436.jpg', '/content/drive/MyDrive/Dataset_TCC/ESP_Master/with_cow/pic437.jpg', '/content/drive/MyDrive/Dataset_TCC/ESP_Master/with_cow/pic438.jpg', '/content/drive/MyDrive/Dataset_TCC/ESP_Master/with_cow/pic439.jpg', '/content/drive/MyDrive/Dataset_TCC/ESP_Master/with_cow/pic440.jpg', '/content/drive/MyDrive/Dataset_TCC/ESP_Master/with_cow/pic441.jpg', '/content/drive/MyDrive/Dataset_TCC/ESP_Master/with_cow/pic442.jpg', '/content/drive/MyDrive/Dataset_TCC/ESP_Master/with_cow/pic443.jpg', '/content/drive/MyDrive/Dataset_TCC/ESP_Master/with_cow/pic445.jpg', '/content/drive/MyDrive/Dataset_TCC/ESP_Master/with_cow/pic449.jpg', '/content/drive/MyDrive/Dataset_TCC/ESP_Master/with_cow/pic450.jpg', '/content/drive/MyDrive/Dataset_TCC/ESP_Master/with_cow/pic451.jpg', '/content/drive/MyDrive/Dataset_TCC/ESP_Master/with_cow/pic452.jpg', '/content/drive/MyDrive/Dataset_TCC/ESP_Master/with_cow/pic457.jpg', '/content/drive/MyDrive/Dataset_TCC/ESP_Master/with_cow/pic458.jpg', '/content/drive/MyDrive/Dataset_TCC/ESP_Master/with_cow/pic459.jpg', '/content/drive/MyDrive/Dataset_TCC/ESP_Master/with_cow/pic460.jpg', '/content/drive/MyDrive/Dataset_TCC/ESP_Master/with_cow/pic461.jpg', '/content/drive/MyDrive/Dataset_TCC/ESP_Master/with_cow/pic462.jpg', '/content/drive/MyDrive/Dataset_TCC/ESP_Master/with_cow/pic472.jpg', '/content/drive/MyDrive/Dataset_TCC/ESP_Master/with_cow/pic473.jpg', '/content/drive/MyDrive/Dataset_TCC/ESP_Master/with_cow/pic474.jpg', '/content/drive/MyDrive/Dataset_TCC/ESP_Master/with_cow/pic475.jpg', '/content/drive/MyDrive/Dataset_TCC/ESP_Master/with_cow/pic476.jpg', '/content/drive/MyDrive/Dataset_TCC/ESP_Master/with_cow/pic477.jpg', '/content/drive/MyDrive/Dataset_TCC/ESP_Master/with_cow/pic478.jpg', '/content/drive/MyDrive/Dataset_TCC/ESP_Master/with_cow/pic479.jpg', '/content/drive/MyDrive/Dataset_TCC/ESP_Master/with_cow/pic480.jpg', '/content/drive/MyDrive/Dataset_TCC/ESP_Master/with_cow/pic481.jpg', '/content/drive/MyDrive/Dataset_TCC/ESP_Master/with_cow/pic482.jpg', '/content/drive/MyDrive/Dataset_TCC/ESP_Master/with_cow/pic483.jpg', '/content/drive/MyDrive/Dataset_TCC/ESP_Master/with_cow/pic484.jpg', '/content/drive/MyDrive/Dataset_TCC/ESP_Master/with_cow/pic485.jpg', '/content/drive/MyDrive/Dataset_TCC/ESP_Master/with_cow/pic486.jpg', '/content/drive/MyDrive/Dataset_TCC/ESP_Master/with_cow/pic488.jpg', '/content/drive/MyDrive/Dataset_TCC/ESP_Master/with_cow/pic489.jpg', '/content/drive/MyDrive/Dataset_TCC/ESP_Master/with_cow/pic490.jpg', '/content/drive/MyDrive/Dataset_TCC/ESP_Master/with_cow/pic491.jpg', '/content/drive/MyDrive/Dataset_TCC/ESP_Master/with_cow/pic493.jpg', '/content/drive/MyDrive/Dataset_TCC/ESP_Master/with_cow/pic494.jpg', '/content/drive/MyDrive/Dataset_TCC/ESP_Master/with_cow/pic495.jpg', '/content/drive/MyDrive/Dataset_TCC/ESP_Master/with_cow/pic496.jpg', '/content/drive/MyDrive/Dataset_TCC/ESP_Master/with_cow/pic497.jpg', '/content/drive/MyDrive/Dataset_TCC/ESP_Master/with_cow/pic498.jpg', '/content/drive/MyDrive/Dataset_TCC/ESP_Master/with_cow/pic499.jpg', '/content/drive/MyDrive/Dataset_TCC/ESP_Master/with_cow/pic5.jpg', '/content/drive/MyDrive/Dataset_TCC/ESP_Master/with_cow/pic500.jpg', '/content/drive/MyDrive/Dataset_TCC/ESP_Master/with_cow/pic501.jpg', '/content/drive/MyDrive/Dataset_TCC/ESP_Master/with_cow/pic502.jpg', '/content/drive/MyDrive/Dataset_TCC/ESP_Master/with_cow/pic503.jpg', '/content/drive/MyDrive/Dataset_TCC/ESP_Master/with_cow/pic526.jpg', '/content/drive/MyDrive/Dataset_TCC/ESP_Master/with_cow/pic533.jpg', '/content/drive/MyDrive/Dataset_TCC/ESP_Master/with_cow/pic534.jpg', '/content/drive/MyDrive/Dataset_TCC/ESP_Master/with_cow/pic535.jpg', '/content/drive/MyDrive/Dataset_TCC/ESP_Master/with_cow/pic536.jpg', '/content/drive/MyDrive/Dataset_TCC/ESP_Master/with_cow/pic537.jpg', '/content/drive/MyDrive/Dataset_TCC/ESP_Master/with_cow/pic543.jpg', '/content/drive/MyDrive/Dataset_TCC/ESP_Master/with_cow/pic544.jpg', '/content/drive/MyDrive/Dataset_TCC/ESP_Master/with_cow/pic545.jpg', '/content/drive/MyDrive/Dataset_TCC/ESP_Master/with_cow/pic546.jpg', '/content/drive/MyDrive/Dataset_TCC/ESP_Master/with_cow/pic547.jpg', '/content/drive/MyDrive/Dataset_TCC/ESP_Master/with_cow/pic548.jpg', '/content/drive/MyDrive/Dataset_TCC/ESP_Master/with_cow/pic549.jpg', '/content/drive/MyDrive/Dataset_TCC/ESP_Master/with_cow/pic550.jpg', '/content/drive/MyDrive/Dataset_TCC/ESP_Master/with_cow/pic551.jpg', '/content/drive/MyDrive/Dataset_TCC/ESP_Master/with_cow/pic552.jpg', '/content/drive/MyDrive/Dataset_TCC/ESP_Master/with_cow/pic553.jpg', '/content/drive/MyDrive/Dataset_TCC/ESP_Master/with_cow/pic554.jpg', '/content/drive/MyDrive/Dataset_TCC/ESP_Master/with_cow/pic559.jpg', '/content/drive/MyDrive/Dataset_TCC/ESP_Master/with_cow/pic560.jpg', '/content/drive/MyDrive/Dataset_TCC/ESP_Master/with_cow/pic561.jpg', '/content/drive/MyDrive/Dataset_TCC/ESP_Master/with_cow/pic563.jpg', '/content/drive/MyDrive/Dataset_TCC/ESP_Master/with_cow/pic564.jpg', '/content/drive/MyDrive/Dataset_TCC/ESP_Master/with_cow/pic565.jpg', '/content/drive/MyDrive/Dataset_TCC/ESP_Master/with_cow/pic567.jpg', '/content/drive/MyDrive/Dataset_TCC/ESP_Master/with_cow/pic569.jpg', '/content/drive/MyDrive/Dataset_TCC/ESP_Master/with_cow/pic570.jpg', '/content/drive/MyDrive/Dataset_TCC/ESP_Master/with_cow/pic572.jpg', '/content/drive/MyDrive/Dataset_TCC/ESP_Master/with_cow/pic574.jpg', '/content/drive/MyDrive/Dataset_TCC/ESP_Master/with_cow/pic575.jpg', '/content/drive/MyDrive/Dataset_TCC/ESP_Master/with_cow/pic577.jpg', '/content/drive/MyDrive/Dataset_TCC/ESP_Master/with_cow/pic578.jpg', '/content/drive/MyDrive/Dataset_TCC/ESP_Master/with_cow/pic59.jpg', '/content/drive/MyDrive/Dataset_TCC/ESP_Master/with_cow/pic6.jpg', '/content/drive/MyDrive/Dataset_TCC/ESP_Master/with_cow/pic60.jpg', '/content/drive/MyDrive/Dataset_TCC/ESP_Master/with_cow/pic61.jpg', '/content/drive/MyDrive/Dataset_TCC/ESP_Master/with_cow/pic65.jpg', '/content/drive/MyDrive/Dataset_TCC/ESP_Master/with_cow/pic67.jpg', '/content/drive/MyDrive/Dataset_TCC/ESP_Master/with_cow/pic71.jpg', '/content/drive/MyDrive/Dataset_TCC/ESP_Master/with_cow/pic72.jpg', '/content/drive/MyDrive/Dataset_TCC/ESP_Master/with_cow/pic74.jpg', '/content/drive/MyDrive/Dataset_TCC/ESP_Master/with_cow/pic77.jpg', '/content/drive/MyDrive/Dataset_TCC/ESP_Master/with_cow/pic78.jpg', '/content/drive/MyDrive/Dataset_TCC/ESP_Master/with_cow/pic79.jpg', '/content/drive/MyDrive/Dataset_TCC/ESP_Master/with_cow/pic8.jpg', '/content/drive/MyDrive/Dataset_TCC/ESP_Master/with_cow/pic85.jpg', '/content/drive/MyDrive/Dataset_TCC/ESP_Master/with_cow/pic86.jpg', '/content/drive/MyDrive/Dataset_TCC/ESP_Master/with_cow/pic87.jpg', '/content/drive/MyDrive/Dataset_TCC/ESP_Master/with_cow/pic88.jpg', '/content/drive/MyDrive/Dataset_TCC/ESP_Master/with_cow/pic89.jpg', '/content/drive/MyDrive/Dataset_TCC/ESP_Master/with_cow/pic90.jpg', '/content/drive/MyDrive/Dataset_TCC/ESP_Master/with_cow/pic91.jpg', '/content/drive/MyDrive/Dataset_TCC/ESP_Master/with_cow/pic92.jpg', '/content/drive/MyDrive/Dataset_TCC/ESP_Master/with_cow/pic93.jpg', '/content/drive/MyDrive/Dataset_TCC/ESP_Master/with_cow/pic94.jpg', '/content/drive/MyDrive/Dataset_TCC/ESP_Master/with_cow/pic95.jpg', '/content/drive/MyDrive/Dataset_TCC/ESP_Master/with_cow/pic96.jpg', '/content/drive/MyDrive/Dataset_TCC/ESP_Master/with_cow/pic97.jpg', '/content/drive/MyDrive/Dataset_TCC/ESP_Master/with_cow/pic98.jpg']\n",
            "['/content/drive/MyDrive/Dataset_TCC/ESP_Master/no_cow/pic1.jpg', '/content/drive/MyDrive/Dataset_TCC/ESP_Master/no_cow/pic101.jpg', '/content/drive/MyDrive/Dataset_TCC/ESP_Master/no_cow/pic103.jpg', '/content/drive/MyDrive/Dataset_TCC/ESP_Master/no_cow/pic104.jpg', '/content/drive/MyDrive/Dataset_TCC/ESP_Master/no_cow/pic105.jpg', '/content/drive/MyDrive/Dataset_TCC/ESP_Master/no_cow/pic107.jpg', '/content/drive/MyDrive/Dataset_TCC/ESP_Master/no_cow/pic108.jpg', '/content/drive/MyDrive/Dataset_TCC/ESP_Master/no_cow/pic114.jpg', '/content/drive/MyDrive/Dataset_TCC/ESP_Master/no_cow/pic119.jpg', '/content/drive/MyDrive/Dataset_TCC/ESP_Master/no_cow/pic121.jpg', '/content/drive/MyDrive/Dataset_TCC/ESP_Master/no_cow/pic136.jpg', '/content/drive/MyDrive/Dataset_TCC/ESP_Master/no_cow/pic137.jpg', '/content/drive/MyDrive/Dataset_TCC/ESP_Master/no_cow/pic138.jpg', '/content/drive/MyDrive/Dataset_TCC/ESP_Master/no_cow/pic15.jpg', '/content/drive/MyDrive/Dataset_TCC/ESP_Master/no_cow/pic17.jpg', '/content/drive/MyDrive/Dataset_TCC/ESP_Master/no_cow/pic174.jpg', '/content/drive/MyDrive/Dataset_TCC/ESP_Master/no_cow/pic175.jpg', '/content/drive/MyDrive/Dataset_TCC/ESP_Master/no_cow/pic18.jpg', '/content/drive/MyDrive/Dataset_TCC/ESP_Master/no_cow/pic188.jpg', '/content/drive/MyDrive/Dataset_TCC/ESP_Master/no_cow/pic239.jpg', '/content/drive/MyDrive/Dataset_TCC/ESP_Master/no_cow/pic241.jpg', '/content/drive/MyDrive/Dataset_TCC/ESP_Master/no_cow/pic242.jpg', '/content/drive/MyDrive/Dataset_TCC/ESP_Master/no_cow/pic244.jpg', '/content/drive/MyDrive/Dataset_TCC/ESP_Master/no_cow/pic25.jpg', '/content/drive/MyDrive/Dataset_TCC/ESP_Master/no_cow/pic257.jpg', '/content/drive/MyDrive/Dataset_TCC/ESP_Master/no_cow/pic26.jpg', '/content/drive/MyDrive/Dataset_TCC/ESP_Master/no_cow/pic260.jpg', '/content/drive/MyDrive/Dataset_TCC/ESP_Master/no_cow/pic264.jpg', '/content/drive/MyDrive/Dataset_TCC/ESP_Master/no_cow/pic27.jpg', '/content/drive/MyDrive/Dataset_TCC/ESP_Master/no_cow/pic277.jpg', '/content/drive/MyDrive/Dataset_TCC/ESP_Master/no_cow/pic278.jpg', '/content/drive/MyDrive/Dataset_TCC/ESP_Master/no_cow/pic28.jpg', '/content/drive/MyDrive/Dataset_TCC/ESP_Master/no_cow/pic29.jpg', '/content/drive/MyDrive/Dataset_TCC/ESP_Master/no_cow/pic30.jpg', '/content/drive/MyDrive/Dataset_TCC/ESP_Master/no_cow/pic309.jpg', '/content/drive/MyDrive/Dataset_TCC/ESP_Master/no_cow/pic31.jpg', '/content/drive/MyDrive/Dataset_TCC/ESP_Master/no_cow/pic310.jpg', '/content/drive/MyDrive/Dataset_TCC/ESP_Master/no_cow/pic311.jpg', '/content/drive/MyDrive/Dataset_TCC/ESP_Master/no_cow/pic312.jpg', '/content/drive/MyDrive/Dataset_TCC/ESP_Master/no_cow/pic313.jpg', '/content/drive/MyDrive/Dataset_TCC/ESP_Master/no_cow/pic316.jpg', '/content/drive/MyDrive/Dataset_TCC/ESP_Master/no_cow/pic325.jpg', '/content/drive/MyDrive/Dataset_TCC/ESP_Master/no_cow/pic326.jpg', '/content/drive/MyDrive/Dataset_TCC/ESP_Master/no_cow/pic328.jpg', '/content/drive/MyDrive/Dataset_TCC/ESP_Master/no_cow/pic33.jpg', '/content/drive/MyDrive/Dataset_TCC/ESP_Master/no_cow/pic332.jpg', '/content/drive/MyDrive/Dataset_TCC/ESP_Master/no_cow/pic34.jpg', '/content/drive/MyDrive/Dataset_TCC/ESP_Master/no_cow/pic35.jpg', '/content/drive/MyDrive/Dataset_TCC/ESP_Master/no_cow/pic351.jpg', '/content/drive/MyDrive/Dataset_TCC/ESP_Master/no_cow/pic352.jpg', '/content/drive/MyDrive/Dataset_TCC/ESP_Master/no_cow/pic353.jpg', '/content/drive/MyDrive/Dataset_TCC/ESP_Master/no_cow/pic358.jpg', '/content/drive/MyDrive/Dataset_TCC/ESP_Master/no_cow/pic36.jpg', '/content/drive/MyDrive/Dataset_TCC/ESP_Master/no_cow/pic39.jpg', '/content/drive/MyDrive/Dataset_TCC/ESP_Master/no_cow/pic396.jpg', '/content/drive/MyDrive/Dataset_TCC/ESP_Master/no_cow/pic398.jpg', '/content/drive/MyDrive/Dataset_TCC/ESP_Master/no_cow/pic40.jpg', '/content/drive/MyDrive/Dataset_TCC/ESP_Master/no_cow/pic43.jpg', '/content/drive/MyDrive/Dataset_TCC/ESP_Master/no_cow/pic44.jpg', '/content/drive/MyDrive/Dataset_TCC/ESP_Master/no_cow/pic444.jpg', '/content/drive/MyDrive/Dataset_TCC/ESP_Master/no_cow/pic446.jpg', '/content/drive/MyDrive/Dataset_TCC/ESP_Master/no_cow/pic447.jpg', '/content/drive/MyDrive/Dataset_TCC/ESP_Master/no_cow/pic448.jpg', '/content/drive/MyDrive/Dataset_TCC/ESP_Master/no_cow/pic45.jpg', '/content/drive/MyDrive/Dataset_TCC/ESP_Master/no_cow/pic454.jpg', '/content/drive/MyDrive/Dataset_TCC/ESP_Master/no_cow/pic455.jpg', '/content/drive/MyDrive/Dataset_TCC/ESP_Master/no_cow/pic456.jpg', '/content/drive/MyDrive/Dataset_TCC/ESP_Master/no_cow/pic46.jpg', '/content/drive/MyDrive/Dataset_TCC/ESP_Master/no_cow/pic465.jpg', '/content/drive/MyDrive/Dataset_TCC/ESP_Master/no_cow/pic466.jpg', '/content/drive/MyDrive/Dataset_TCC/ESP_Master/no_cow/pic467.jpg', '/content/drive/MyDrive/Dataset_TCC/ESP_Master/no_cow/pic468.jpg', '/content/drive/MyDrive/Dataset_TCC/ESP_Master/no_cow/pic469.jpg', '/content/drive/MyDrive/Dataset_TCC/ESP_Master/no_cow/pic47.jpg', '/content/drive/MyDrive/Dataset_TCC/ESP_Master/no_cow/pic470.jpg', '/content/drive/MyDrive/Dataset_TCC/ESP_Master/no_cow/pic471.jpg', '/content/drive/MyDrive/Dataset_TCC/ESP_Master/no_cow/pic48.jpg', '/content/drive/MyDrive/Dataset_TCC/ESP_Master/no_cow/pic49.jpg', '/content/drive/MyDrive/Dataset_TCC/ESP_Master/no_cow/pic50.jpg', '/content/drive/MyDrive/Dataset_TCC/ESP_Master/no_cow/pic504.jpg', '/content/drive/MyDrive/Dataset_TCC/ESP_Master/no_cow/pic505.jpg', '/content/drive/MyDrive/Dataset_TCC/ESP_Master/no_cow/pic507.jpg', '/content/drive/MyDrive/Dataset_TCC/ESP_Master/no_cow/pic508.jpg', '/content/drive/MyDrive/Dataset_TCC/ESP_Master/no_cow/pic509.jpg', '/content/drive/MyDrive/Dataset_TCC/ESP_Master/no_cow/pic51.jpg', '/content/drive/MyDrive/Dataset_TCC/ESP_Master/no_cow/pic511.jpg', '/content/drive/MyDrive/Dataset_TCC/ESP_Master/no_cow/pic513.jpg', '/content/drive/MyDrive/Dataset_TCC/ESP_Master/no_cow/pic515.jpg', '/content/drive/MyDrive/Dataset_TCC/ESP_Master/no_cow/pic516.jpg', '/content/drive/MyDrive/Dataset_TCC/ESP_Master/no_cow/pic517.jpg', '/content/drive/MyDrive/Dataset_TCC/ESP_Master/no_cow/pic519.jpg', '/content/drive/MyDrive/Dataset_TCC/ESP_Master/no_cow/pic52.jpg', '/content/drive/MyDrive/Dataset_TCC/ESP_Master/no_cow/pic521.jpg', '/content/drive/MyDrive/Dataset_TCC/ESP_Master/no_cow/pic522.jpg', '/content/drive/MyDrive/Dataset_TCC/ESP_Master/no_cow/pic523.jpg', '/content/drive/MyDrive/Dataset_TCC/ESP_Master/no_cow/pic524.jpg', '/content/drive/MyDrive/Dataset_TCC/ESP_Master/no_cow/pic527.jpg', '/content/drive/MyDrive/Dataset_TCC/ESP_Master/no_cow/pic528.jpg', '/content/drive/MyDrive/Dataset_TCC/ESP_Master/no_cow/pic529.jpg', '/content/drive/MyDrive/Dataset_TCC/ESP_Master/no_cow/pic53.jpg', '/content/drive/MyDrive/Dataset_TCC/ESP_Master/no_cow/pic530.jpg', '/content/drive/MyDrive/Dataset_TCC/ESP_Master/no_cow/pic531.jpg', '/content/drive/MyDrive/Dataset_TCC/ESP_Master/no_cow/pic532.jpg', '/content/drive/MyDrive/Dataset_TCC/ESP_Master/no_cow/pic538.jpg', '/content/drive/MyDrive/Dataset_TCC/ESP_Master/no_cow/pic539.jpg', '/content/drive/MyDrive/Dataset_TCC/ESP_Master/no_cow/pic54.jpg', '/content/drive/MyDrive/Dataset_TCC/ESP_Master/no_cow/pic540.jpg', '/content/drive/MyDrive/Dataset_TCC/ESP_Master/no_cow/pic541.jpg', '/content/drive/MyDrive/Dataset_TCC/ESP_Master/no_cow/pic542.jpg', '/content/drive/MyDrive/Dataset_TCC/ESP_Master/no_cow/pic55.jpg', '/content/drive/MyDrive/Dataset_TCC/ESP_Master/no_cow/pic555.jpg', '/content/drive/MyDrive/Dataset_TCC/ESP_Master/no_cow/pic556.jpg', '/content/drive/MyDrive/Dataset_TCC/ESP_Master/no_cow/pic558.jpg', '/content/drive/MyDrive/Dataset_TCC/ESP_Master/no_cow/pic56.jpg', '/content/drive/MyDrive/Dataset_TCC/ESP_Master/no_cow/pic57.jpg', '/content/drive/MyDrive/Dataset_TCC/ESP_Master/no_cow/pic58.jpg', '/content/drive/MyDrive/Dataset_TCC/ESP_Master/no_cow/pic62.jpg', '/content/drive/MyDrive/Dataset_TCC/ESP_Master/no_cow/pic63.jpg', '/content/drive/MyDrive/Dataset_TCC/ESP_Master/no_cow/pic64.jpg', '/content/drive/MyDrive/Dataset_TCC/ESP_Master/no_cow/pic69.jpg', '/content/drive/MyDrive/Dataset_TCC/ESP_Master/no_cow/pic99.jpg']\n"
          ]
        }
      ]
    },
    {
      "cell_type": "code",
      "source": [
        "largura, altura = 128, 128"
      ],
      "metadata": {
        "id": "A9psdP0OThsQ"
      },
      "execution_count": 4,
      "outputs": []
    },
    {
      "cell_type": "code",
      "source": [
        "imagens = []\n",
        "classes = []\n",
        "# 0 - images with cow // 1 - images without cow"
      ],
      "metadata": {
        "id": "KX3o0OHHT4fN"
      },
      "execution_count": 5,
      "outputs": []
    },
    {
      "cell_type": "code",
      "source": [
        "for imagem_path in files_with_cow:\n",
        "  try:\n",
        "    imagem = cv2.imread(imagem_path)\n",
        "    (H, W) = imagem.shape[:2]\n",
        "  except:\n",
        "    continue\n",
        "\n",
        "  imagem = cv2.resize(imagem, (largura, altura))\n",
        "  imagem = cv2.cvtColor(imagem, cv2.COLOR_BGR2GRAY)\n",
        "  # cv2_imshow(imagem)\n",
        "\n",
        "  imagem = imagem.ravel() #transforma de matriz pra vetor\n",
        "  # print(imagem.shape)\n",
        "\n",
        "  imagens.append(imagem)\n",
        "  classe = 0 # Primeira característica\n",
        "\n",
        "  classes.append(classe)\n",
        "  # print(classe)\n",
        "\n",
        "for imagem_path2 in files_no_cow:\n",
        "  try:\n",
        "    imagem2 = cv2.imread(imagem_path2)\n",
        "    (H, W) = imagem2.shape[:2]\n",
        "  except:\n",
        "    continue\n",
        "\n",
        "  imagem2 = cv2.resize(imagem2, (largura, altura))\n",
        "  imagem2 = cv2.cvtColor(imagem2, cv2.COLOR_BGR2GRAY)\n",
        "  # cv2_imshow(imagem2)\n",
        "\n",
        "  imagem2 = imagem2.ravel() #transforma de matriz pra vetor\n",
        "  # print(imagem2.shape)\n",
        "\n",
        "  imagens.append(imagem2)\n",
        "  classe = 1 # Segunda característica\n",
        "\n",
        "  classes.append(classe)\n",
        "  # print(classe)"
      ],
      "metadata": {
        "collapsed": true,
        "id": "3oAHDJkUUBA0"
      },
      "execution_count": 6,
      "outputs": []
    },
    {
      "cell_type": "code",
      "source": [
        "X = np.asarray(imagens)\n",
        "y = np.asarray(classes)"
      ],
      "metadata": {
        "id": "vsBhTenwVQb6"
      },
      "execution_count": 7,
      "outputs": []
    },
    {
      "cell_type": "code",
      "source": [
        "X.shape"
      ],
      "metadata": {
        "id": "ErfklzrFYcjF",
        "colab": {
          "base_uri": "https://localhost:8080/"
        },
        "outputId": "fb99295f-a801-4bcc-911a-78c2f0e6f2c8"
      },
      "execution_count": 8,
      "outputs": [
        {
          "output_type": "execute_result",
          "data": {
            "text/plain": [
              "(503, 16384)"
            ]
          },
          "metadata": {},
          "execution_count": 8
        }
      ]
    },
    {
      "cell_type": "code",
      "source": [
        "y.shape"
      ],
      "metadata": {
        "id": "gO0cX30LZFJE",
        "colab": {
          "base_uri": "https://localhost:8080/"
        },
        "outputId": "78028f32-2a28-4da9-a2f7-d8f18a725951"
      },
      "execution_count": 9,
      "outputs": [
        {
          "output_type": "execute_result",
          "data": {
            "text/plain": [
              "(503,)"
            ]
          },
          "metadata": {},
          "execution_count": 9
        }
      ]
    },
    {
      "cell_type": "code",
      "source": [
        "sns.countplot(y)"
      ],
      "metadata": {
        "id": "wAwfpYe1Y4O8",
        "colab": {
          "base_uri": "https://localhost:8080/",
          "height": 447
        },
        "outputId": "09235b30-9c7f-44f4-d7ac-13218ef3e564"
      },
      "execution_count": 10,
      "outputs": [
        {
          "output_type": "execute_result",
          "data": {
            "text/plain": [
              "<Axes: ylabel='count'>"
            ]
          },
          "metadata": {},
          "execution_count": 10
        },
        {
          "output_type": "display_data",
          "data": {
            "text/plain": [
              "<Figure size 640x480 with 1 Axes>"
            ],
            "image/png": "[encoded data removed]"
          },
          "metadata": {}
        }
      ]
    },
    {
      "cell_type": "code",
      "source": [
        "np.unique(y, return_counts=True)"
      ],
      "metadata": {
        "id": "B67YN_niZUK4",
        "colab": {
          "base_uri": "https://localhost:8080/"
        },
        "outputId": "992cce58-0a8b-4f21-dcd5-640cd4771fad"
      },
      "execution_count": 11,
      "outputs": [
        {
          "output_type": "execute_result",
          "data": {
            "text/plain": [
              "(array([0, 1]), array([382, 121]))"
            ]
          },
          "metadata": {},
          "execution_count": 11
        }
      ]
    },
    {
      "cell_type": "code",
      "source": [
        "from sklearn.preprocessing import MinMaxScaler\n",
        "scaler = MinMaxScaler()\n",
        "X = scaler.fit_transform(X)"
      ],
      "metadata": {
        "id": "K0JXqH__ZcH5"
      },
      "execution_count": 12,
      "outputs": []
    },
    {
      "cell_type": "code",
      "source": [
        "X[0].max(), X[0].min()"
      ],
      "metadata": {
        "id": "PGOFG0xzZ6uT",
        "colab": {
          "base_uri": "https://localhost:8080/"
        },
        "outputId": "15aee4a1-62c0-4dca-a365-5452aef6d602"
      },
      "execution_count": 13,
      "outputs": [
        {
          "output_type": "execute_result",
          "data": {
            "text/plain": [
              "(1.0000000000000002, 0.0)"
            ]
          },
          "metadata": {},
          "execution_count": 13
        }
      ]
    },
    {
      "cell_type": "code",
      "source": [
        "from sklearn.model_selection import train_test_split"
      ],
      "metadata": {
        "id": "39V6r_HqAKTy"
      },
      "execution_count": 14,
      "outputs": []
    },
    {
      "cell_type": "code",
      "source": [
        "X_treinamento, X_teste, y_treinamento, y_teste = train_test_split(X, y, test_size = 0.3, random_state = 1)"
      ],
      "metadata": {
        "id": "APUM7lzFAQnv"
      },
      "execution_count": 15,
      "outputs": []
    },
    {
      "cell_type": "code",
      "source": [
        "X_treinamento.shape, y_treinamento.shape"
      ],
      "metadata": {
        "id": "YJCiLNdrAQnB",
        "colab": {
          "base_uri": "https://localhost:8080/"
        },
        "outputId": "e752c93d-6d59-44e2-a8d4-1a7c423d933f"
      },
      "execution_count": 16,
      "outputs": [
        {
          "output_type": "execute_result",
          "data": {
            "text/plain": [
              "((352, 16384), (352,))"
            ]
          },
          "metadata": {},
          "execution_count": 16
        }
      ]
    },
    {
      "cell_type": "code",
      "source": [
        "X_teste.shape, y_teste.shape"
      ],
      "metadata": {
        "id": "uLtc2EPtBENO",
        "colab": {
          "base_uri": "https://localhost:8080/"
        },
        "outputId": "2af92b84-7a8f-4b02-d3c5-625997432110"
      },
      "execution_count": 17,
      "outputs": [
        {
          "output_type": "execute_result",
          "data": {
            "text/plain": [
              "((151, 16384), (151,))"
            ]
          },
          "metadata": {},
          "execution_count": 17
        }
      ]
    },
    {
      "cell_type": "code",
      "source": [
        "128 * 128"
      ],
      "metadata": {
        "id": "EpfFxkyOBlZU",
        "colab": {
          "base_uri": "https://localhost:8080/"
        },
        "outputId": "6a35720e-29ec-42be-e7ca-8b8b1ba1f900"
      },
      "execution_count": 18,
      "outputs": [
        {
          "output_type": "execute_result",
          "data": {
            "text/plain": [
              "16384"
            ]
          },
          "metadata": {},
          "execution_count": 18
        }
      ]
    },
    {
      "cell_type": "code",
      "source": [
        "(16384 + 2)/2"
      ],
      "metadata": {
        "id": "VfxkTpI1Bw-8",
        "colab": {
          "base_uri": "https://localhost:8080/"
        },
        "outputId": "4f5168d8-24c8-4d34-b0b9-1d6dc677fbc2"
      },
      "execution_count": 19,
      "outputs": [
        {
          "output_type": "execute_result",
          "data": {
            "text/plain": [
              "8193.0"
            ]
          },
          "metadata": {},
          "execution_count": 19
        }
      ]
    },
    {
      "cell_type": "code",
      "source": [
        "# 59536 --> 29769\n",
        "network1 = tf.keras.models.Sequential()\n",
        "# network1.add(tf.keras.layers.Dense(input_shape = (16384,), units = 29769, activation = 'relu')) #camada densa pois um neuronio esta ligado a todos os neuronios da camada seguinte\n",
        "network1.add(tf.keras.layers.Input(shape=(16384,)))\n",
        "network1.add(tf.keras.layers.Dense(units = 8193, activation = 'relu'))\n",
        "network1.add(tf.keras.layers.Dense(units = 8193, activation = 'relu'))\n",
        "network1.add(tf.keras.layers.Dense(units = 1, activation = 'sigmoid'))\n",
        "\n",
        "network1.summary()"
      ],
      "metadata": {
        "id": "diL_AtWYBOuT",
        "colab": {
          "base_uri": "https://localhost:8080/",
          "height": 253
        },
        "outputId": "46e88f5c-afaa-461e-890a-525f7b243eae"
      },
      "execution_count": 27,
      "outputs": [
        {
          "output_type": "display_data",
          "data": {
            "text/plain": [
              "\u001b[1mModel: \"sequential_1\"\u001b[0m\n"
            ],
            "text/html": [
              "<pre style=\"white-space:pre;overflow-x:auto;line-height:normal;font-family:Menlo,'DejaVu Sans Mono',consolas,'Courier New',monospace\"><span style=\"font-weight: bold\">Model: \"sequential_1\"</span>\n",
              "</pre>\n"
            ]
          },
          "metadata": {}
        },
        {
          "output_type": "display_data",
          "data": {
            "text/plain": [
              "┏━━━━━━━━━━━━━━━━━━━━━━━━━━━━━━━━━━━━━━┳━━━━━━━━━━━━━━━━━━━━━━━━━━━━━┳━━━━━━━━━━━━━━━━━┓\n",
              "┃\u001b[1m \u001b[0m\u001b[1mLayer (type)                        \u001b[0m\u001b[1m \u001b[0m┃\u001b[1m \u001b[0m\u001b[1mOutput Shape               \u001b[0m\u001b[1m \u001b[0m┃\u001b[1m \u001b[0m\u001b[1m        Param #\u001b[0m\u001b[1m \u001b[0m┃\n",
              "┡━━━━━━━━━━━━━━━━━━━━━━━━━━━━━━━━━━━━━━╇━━━━━━━━━━━━━━━━━━━━━━━━━━━━━╇━━━━━━━━━━━━━━━━━┩\n",
              "│ dense_3 (\u001b[38;5;33mDense\u001b[0m)                      │ (\u001b[38;5;45mNone\u001b[0m, \u001b[38;5;34m8193\u001b[0m)                │     \u001b[38;5;34m134,242,305\u001b[0m │\n",
              "├──────────────────────────────────────┼─────────────────────────────┼─────────────────┤\n",
              "│ dense_4 (\u001b[38;5;33mDense\u001b[0m)                      │ (\u001b[38;5;45mNone\u001b[0m, \u001b[38;5;34m8193\u001b[0m)                │      \u001b[38;5;34m67,133,442\u001b[0m │\n",
              "├──────────────────────────────────────┼─────────────────────────────┼─────────────────┤\n",
              "│ dense_5 (\u001b[38;5;33mDense\u001b[0m)                      │ (\u001b[38;5;45mNone\u001b[0m, \u001b[38;5;34m1\u001b[0m)                   │           \u001b[38;5;34m8,194\u001b[0m │\n",
              "└──────────────────────────────────────┴─────────────────────────────┴─────────────────┘\n"
            ],
            "text/html": [
              "<pre style=\"white-space:pre;overflow-x:auto;line-height:normal;font-family:Menlo,'DejaVu Sans Mono',consolas,'Courier New',monospace\">┏━━━━━━━━━━━━━━━━━━━━━━━━━━━━━━━━━━━━━━┳━━━━━━━━━━━━━━━━━━━━━━━━━━━━━┳━━━━━━━━━━━━━━━━━┓\n",
              "┃<span style=\"font-weight: bold\"> Layer (type)                         </span>┃<span style=\"font-weight: bold\"> Output Shape                </span>┃<span style=\"font-weight: bold\">         Param # </span>┃\n",
              "┡━━━━━━━━━━━━━━━━━━━━━━━━━━━━━━━━━━━━━━╇━━━━━━━━━━━━━━━━━━━━━━━━━━━━━╇━━━━━━━━━━━━━━━━━┩\n",
              "│ dense_3 (<span style=\"color: #0087ff; text-decoration-color: #0087ff\">Dense</span>)                      │ (<span style=\"color: #00d7ff; text-decoration-color: #00d7ff\">None</span>, <span style=\"color: #00af00; text-decoration-color: #00af00\">8193</span>)                │     <span style=\"color: #00af00; text-decoration-color: #00af00\">134,242,305</span> │\n",
              "├──────────────────────────────────────┼─────────────────────────────┼─────────────────┤\n",
              "│ dense_4 (<span style=\"color: #0087ff; text-decoration-color: #0087ff\">Dense</span>)                      │ (<span style=\"color: #00d7ff; text-decoration-color: #00d7ff\">None</span>, <span style=\"color: #00af00; text-decoration-color: #00af00\">8193</span>)                │      <span style=\"color: #00af00; text-decoration-color: #00af00\">67,133,442</span> │\n",
              "├──────────────────────────────────────┼─────────────────────────────┼─────────────────┤\n",
              "│ dense_5 (<span style=\"color: #0087ff; text-decoration-color: #0087ff\">Dense</span>)                      │ (<span style=\"color: #00d7ff; text-decoration-color: #00d7ff\">None</span>, <span style=\"color: #00af00; text-decoration-color: #00af00\">1</span>)                   │           <span style=\"color: #00af00; text-decoration-color: #00af00\">8,194</span> │\n",
              "└──────────────────────────────────────┴─────────────────────────────┴─────────────────┘\n",
              "</pre>\n"
            ]
          },
          "metadata": {}
        },
        {
          "output_type": "display_data",
          "data": {
            "text/plain": [
              "\u001b[1m Total params: \u001b[0m\u001b[38;5;34m201,383,941\u001b[0m (768.22 MB)\n"
            ],
            "text/html": [
              "<pre style=\"white-space:pre;overflow-x:auto;line-height:normal;font-family:Menlo,'DejaVu Sans Mono',consolas,'Courier New',monospace\"><span style=\"font-weight: bold\"> Total params: </span><span style=\"color: #00af00; text-decoration-color: #00af00\">201,383,941</span> (768.22 MB)\n",
              "</pre>\n"
            ]
          },
          "metadata": {}
        },
        {
          "output_type": "display_data",
          "data": {
            "text/plain": [
              "\u001b[1m Trainable params: \u001b[0m\u001b[38;5;34m201,383,941\u001b[0m (768.22 MB)\n"
            ],
            "text/html": [
              "<pre style=\"white-space:pre;overflow-x:auto;line-height:normal;font-family:Menlo,'DejaVu Sans Mono',consolas,'Courier New',monospace\"><span style=\"font-weight: bold\"> Trainable params: </span><span style=\"color: #00af00; text-decoration-color: #00af00\">201,383,941</span> (768.22 MB)\n",
              "</pre>\n"
            ]
          },
          "metadata": {}
        },
        {
          "output_type": "display_data",
          "data": {
            "text/plain": [
              "\u001b[1m Non-trainable params: \u001b[0m\u001b[38;5;34m0\u001b[0m (0.00 B)\n"
            ],
            "text/html": [
              "<pre style=\"white-space:pre;overflow-x:auto;line-height:normal;font-family:Menlo,'DejaVu Sans Mono',consolas,'Courier New',monospace\"><span style=\"font-weight: bold\"> Non-trainable params: </span><span style=\"color: #00af00; text-decoration-color: #00af00\">0</span> (0.00 B)\n",
              "</pre>\n"
            ]
          },
          "metadata": {}
        }
      ]
    },
    {
      "cell_type": "code",
      "source": [
        "network1.compile(optimizer = 'Adam', loss = 'binary_crossentropy', metrics = ['accuracy'])"
      ],
      "metadata": {
        "id": "3tbvi8LG7k4t"
      },
      "execution_count": 28,
      "outputs": []
    },
    {
      "cell_type": "code",
      "source": [
        "historico = network1.fit(X_treinamento, y_treinamento, epochs = 75)"
      ],
      "metadata": {
        "colab": {
          "base_uri": "https://localhost:8080/"
        },
        "id": "1T-XhXE-6ycT",
        "outputId": "18a0bba2-ed33-48c5-a427-a95d1e4e1c95"
      },
      "execution_count": 29,
      "outputs": [
        {
          "output_type": "stream",
          "name": "stdout",
          "text": [
            "Epoch 1/75\n",
            "\u001b[1m11/11\u001b[0m \u001b[32m━━━━━━━━━━━━━━━━━━━━\u001b[0m\u001b[37m\u001b[0m \u001b[1m2s\u001b[0m 45ms/step - accuracy: 0.4895 - loss: 46.8197\n",
            "Epoch 2/75\n",
            "\u001b[1m11/11\u001b[0m \u001b[32m━━━━━━━━━━━━━━━━━━━━\u001b[0m\u001b[37m\u001b[0m \u001b[1m2s\u001b[0m 42ms/step - accuracy: 0.6308 - loss: 4.0252\n",
            "Epoch 3/75\n",
            "\u001b[1m11/11\u001b[0m \u001b[32m━━━━━━━━━━━━━━━━━━━━\u001b[0m\u001b[37m\u001b[0m \u001b[1m1s\u001b[0m 42ms/step - accuracy: 0.7361 - loss: 0.7464\n",
            "Epoch 4/75\n",
            "\u001b[1m11/11\u001b[0m \u001b[32m━━━━━━━━━━━━━━━━━━━━\u001b[0m\u001b[37m\u001b[0m \u001b[1m0s\u001b[0m 42ms/step - accuracy: 0.6683 - loss: 0.8407\n",
            "Epoch 5/75\n",
            "\u001b[1m11/11\u001b[0m \u001b[32m━━━━━━━━━━━━━━━━━━━━\u001b[0m\u001b[37m\u001b[0m \u001b[1m1s\u001b[0m 43ms/step - accuracy: 0.6456 - loss: 2.3094\n",
            "Epoch 6/75\n",
            "\u001b[1m11/11\u001b[0m \u001b[32m━━━━━━━━━━━━━━━━━━━━\u001b[0m\u001b[37m\u001b[0m \u001b[1m1s\u001b[0m 43ms/step - accuracy: 0.7911 - loss: 0.4411\n",
            "Epoch 7/75\n",
            "\u001b[1m11/11\u001b[0m \u001b[32m━━━━━━━━━━━━━━━━━━━━\u001b[0m\u001b[37m\u001b[0m \u001b[1m1s\u001b[0m 44ms/step - accuracy: 0.8224 - loss: 0.4362\n",
            "Epoch 8/75\n",
            "\u001b[1m11/11\u001b[0m \u001b[32m━━━━━━━━━━━━━━━━━━━━\u001b[0m\u001b[37m\u001b[0m \u001b[1m1s\u001b[0m 44ms/step - accuracy: 0.8183 - loss: 0.4382\n",
            "Epoch 9/75\n",
            "\u001b[1m11/11\u001b[0m \u001b[32m━━━━━━━━━━━━━━━━━━━━\u001b[0m\u001b[37m\u001b[0m \u001b[1m1s\u001b[0m 44ms/step - accuracy: 0.8209 - loss: 0.4116\n",
            "Epoch 10/75\n",
            "\u001b[1m11/11\u001b[0m \u001b[32m━━━━━━━━━━━━━━━━━━━━\u001b[0m\u001b[37m\u001b[0m \u001b[1m1s\u001b[0m 44ms/step - accuracy: 0.8636 - loss: 0.3694\n",
            "Epoch 11/75\n",
            "\u001b[1m11/11\u001b[0m \u001b[32m━━━━━━━━━━━━━━━━━━━━\u001b[0m\u001b[37m\u001b[0m \u001b[1m1s\u001b[0m 43ms/step - accuracy: 0.8319 - loss: 0.3791\n",
            "Epoch 12/75\n",
            "\u001b[1m11/11\u001b[0m \u001b[32m━━━━━━━━━━━━━━━━━━━━\u001b[0m\u001b[37m\u001b[0m \u001b[1m0s\u001b[0m 42ms/step - accuracy: 0.8500 - loss: 0.3322\n",
            "Epoch 13/75\n",
            "\u001b[1m11/11\u001b[0m \u001b[32m━━━━━━━━━━━━━━━━━━━━\u001b[0m\u001b[37m\u001b[0m \u001b[1m0s\u001b[0m 42ms/step - accuracy: 0.8234 - loss: 0.3323\n",
            "Epoch 14/75\n",
            "\u001b[1m11/11\u001b[0m \u001b[32m━━━━━━━━━━━━━━━━━━━━\u001b[0m\u001b[37m\u001b[0m \u001b[1m1s\u001b[0m 42ms/step - accuracy: 0.8486 - loss: 0.3875\n",
            "Epoch 15/75\n",
            "\u001b[1m11/11\u001b[0m \u001b[32m━━━━━━━━━━━━━━━━━━━━\u001b[0m\u001b[37m\u001b[0m \u001b[1m0s\u001b[0m 42ms/step - accuracy: 0.8699 - loss: 0.3131\n",
            "Epoch 16/75\n",
            "\u001b[1m11/11\u001b[0m \u001b[32m━━━━━━━━━━━━━━━━━━━━\u001b[0m\u001b[37m\u001b[0m \u001b[1m0s\u001b[0m 43ms/step - accuracy: 0.8583 - loss: 0.3435\n",
            "Epoch 17/75\n",
            "\u001b[1m11/11\u001b[0m \u001b[32m━━━━━━━━━━━━━━━━━━━━\u001b[0m\u001b[37m\u001b[0m \u001b[1m0s\u001b[0m 42ms/step - accuracy: 0.9014 - loss: 0.2705\n",
            "Epoch 18/75\n",
            "\u001b[1m11/11\u001b[0m \u001b[32m━━━━━━━━━━━━━━━━━━━━\u001b[0m\u001b[37m\u001b[0m \u001b[1m0s\u001b[0m 42ms/step - accuracy: 0.9333 - loss: 0.2202\n",
            "Epoch 19/75\n",
            "\u001b[1m11/11\u001b[0m \u001b[32m━━━━━━━━━━━━━━━━━━━━\u001b[0m\u001b[37m\u001b[0m \u001b[1m0s\u001b[0m 42ms/step - accuracy: 0.8214 - loss: 0.3866\n",
            "Epoch 20/75\n",
            "\u001b[1m11/11\u001b[0m \u001b[32m━━━━━━━━━━━━━━━━━━━━\u001b[0m\u001b[37m\u001b[0m \u001b[1m1s\u001b[0m 42ms/step - accuracy: 0.9038 - loss: 0.2722\n",
            "Epoch 21/75\n",
            "\u001b[1m11/11\u001b[0m \u001b[32m━━━━━━━━━━━━━━━━━━━━\u001b[0m\u001b[37m\u001b[0m \u001b[1m0s\u001b[0m 42ms/step - accuracy: 0.9227 - loss: 0.2036\n",
            "Epoch 22/75\n",
            "\u001b[1m11/11\u001b[0m \u001b[32m━━━━━━━━━━━━━━━━━━━━\u001b[0m\u001b[37m\u001b[0m \u001b[1m0s\u001b[0m 42ms/step - accuracy: 0.9276 - loss: 0.2006\n",
            "Epoch 23/75\n",
            "\u001b[1m11/11\u001b[0m \u001b[32m━━━━━━━━━━━━━━━━━━━━\u001b[0m\u001b[37m\u001b[0m \u001b[1m0s\u001b[0m 42ms/step - accuracy: 0.9154 - loss: 0.2048\n",
            "Epoch 24/75\n",
            "\u001b[1m11/11\u001b[0m \u001b[32m━━━━━━━━━━━━━━━━━━━━\u001b[0m\u001b[37m\u001b[0m \u001b[1m0s\u001b[0m 42ms/step - accuracy: 0.8804 - loss: 0.2392\n",
            "Epoch 25/75\n",
            "\u001b[1m11/11\u001b[0m \u001b[32m━━━━━━━━━━━━━━━━━━━━\u001b[0m\u001b[37m\u001b[0m \u001b[1m1s\u001b[0m 42ms/step - accuracy: 0.9310 - loss: 0.1689\n",
            "Epoch 26/75\n",
            "\u001b[1m11/11\u001b[0m \u001b[32m━━━━━━━━━━━━━━━━━━━━\u001b[0m\u001b[37m\u001b[0m \u001b[1m1s\u001b[0m 43ms/step - accuracy: 0.9129 - loss: 0.2121\n",
            "Epoch 27/75\n",
            "\u001b[1m11/11\u001b[0m \u001b[32m━━━━━━━━━━━━━━━━━━━━\u001b[0m\u001b[37m\u001b[0m \u001b[1m1s\u001b[0m 43ms/step - accuracy: 0.9194 - loss: 0.2225\n",
            "Epoch 28/75\n",
            "\u001b[1m11/11\u001b[0m \u001b[32m━━━━━━━━━━━━━━━━━━━━\u001b[0m\u001b[37m\u001b[0m \u001b[1m0s\u001b[0m 42ms/step - accuracy: 0.9307 - loss: 0.1765\n",
            "Epoch 29/75\n",
            "\u001b[1m11/11\u001b[0m \u001b[32m━━━━━━━━━━━━━━━━━━━━\u001b[0m\u001b[37m\u001b[0m \u001b[1m1s\u001b[0m 42ms/step - accuracy: 0.9069 - loss: 0.2082\n",
            "Epoch 30/75\n",
            "\u001b[1m11/11\u001b[0m \u001b[32m━━━━━━━━━━━━━━━━━━━━\u001b[0m\u001b[37m\u001b[0m \u001b[1m1s\u001b[0m 44ms/step - accuracy: 0.8901 - loss: 0.2464\n",
            "Epoch 31/75\n",
            "\u001b[1m11/11\u001b[0m \u001b[32m━━━━━━━━━━━━━━━━━━━━\u001b[0m\u001b[37m\u001b[0m \u001b[1m1s\u001b[0m 44ms/step - accuracy: 0.8988 - loss: 0.2370\n",
            "Epoch 32/75\n",
            "\u001b[1m11/11\u001b[0m \u001b[32m━━━━━━━━━━━━━━━━━━━━\u001b[0m\u001b[37m\u001b[0m \u001b[1m1s\u001b[0m 44ms/step - accuracy: 0.9394 - loss: 0.1910\n",
            "Epoch 33/75\n",
            "\u001b[1m11/11\u001b[0m \u001b[32m━━━━━━━━━━━━━━━━━━━━\u001b[0m\u001b[37m\u001b[0m \u001b[1m0s\u001b[0m 43ms/step - accuracy: 0.9481 - loss: 0.1366\n",
            "Epoch 34/75\n",
            "\u001b[1m11/11\u001b[0m \u001b[32m━━━━━━━━━━━━━━━━━━━━\u001b[0m\u001b[37m\u001b[0m \u001b[1m1s\u001b[0m 44ms/step - accuracy: 0.9414 - loss: 0.2061\n",
            "Epoch 35/75\n",
            "\u001b[1m11/11\u001b[0m \u001b[32m━━━━━━━━━━━━━━━━━━━━\u001b[0m\u001b[37m\u001b[0m \u001b[1m1s\u001b[0m 45ms/step - accuracy: 0.8077 - loss: 0.4238\n",
            "Epoch 36/75\n",
            "\u001b[1m11/11\u001b[0m \u001b[32m━━━━━━━━━━━━━━━━━━━━\u001b[0m\u001b[37m\u001b[0m \u001b[1m1s\u001b[0m 43ms/step - accuracy: 0.9070 - loss: 0.2109\n",
            "Epoch 37/75\n",
            "\u001b[1m11/11\u001b[0m \u001b[32m━━━━━━━━━━━━━━━━━━━━\u001b[0m\u001b[37m\u001b[0m \u001b[1m1s\u001b[0m 43ms/step - accuracy: 0.9393 - loss: 0.1677\n",
            "Epoch 38/75\n",
            "\u001b[1m11/11\u001b[0m \u001b[32m━━━━━━━━━━━━━━━━━━━━\u001b[0m\u001b[37m\u001b[0m \u001b[1m0s\u001b[0m 43ms/step - accuracy: 0.8826 - loss: 0.2984\n",
            "Epoch 39/75\n",
            "\u001b[1m11/11\u001b[0m \u001b[32m━━━━━━━━━━━━━━━━━━━━\u001b[0m\u001b[37m\u001b[0m \u001b[1m0s\u001b[0m 42ms/step - accuracy: 0.9139 - loss: 0.2193\n",
            "Epoch 40/75\n",
            "\u001b[1m11/11\u001b[0m \u001b[32m━━━━━━━━━━━━━━━━━━━━\u001b[0m\u001b[37m\u001b[0m \u001b[1m0s\u001b[0m 42ms/step - accuracy: 0.9610 - loss: 0.1118\n",
            "Epoch 41/75\n",
            "\u001b[1m11/11\u001b[0m \u001b[32m━━━━━━━━━━━━━━━━━━━━\u001b[0m\u001b[37m\u001b[0m \u001b[1m0s\u001b[0m 43ms/step - accuracy: 0.9442 - loss: 0.1422\n",
            "Epoch 42/75\n",
            "\u001b[1m11/11\u001b[0m \u001b[32m━━━━━━━━━━━━━━━━━━━━\u001b[0m\u001b[37m\u001b[0m \u001b[1m0s\u001b[0m 42ms/step - accuracy: 0.9558 - loss: 0.1211\n",
            "Epoch 43/75\n",
            "\u001b[1m11/11\u001b[0m \u001b[32m━━━━━━━━━━━━━━━━━━━━\u001b[0m\u001b[37m\u001b[0m \u001b[1m0s\u001b[0m 43ms/step - accuracy: 0.9470 - loss: 0.1097\n",
            "Epoch 44/75\n",
            "\u001b[1m11/11\u001b[0m \u001b[32m━━━━━━━━━━━━━━━━━━━━\u001b[0m\u001b[37m\u001b[0m \u001b[1m0s\u001b[0m 43ms/step - accuracy: 0.9347 - loss: 0.1478\n",
            "Epoch 45/75\n",
            "\u001b[1m11/11\u001b[0m \u001b[32m━━━━━━━━━━━━━━━━━━━━\u001b[0m\u001b[37m\u001b[0m \u001b[1m0s\u001b[0m 43ms/step - accuracy: 0.9372 - loss: 0.1420\n",
            "Epoch 46/75\n",
            "\u001b[1m11/11\u001b[0m \u001b[32m━━━━━━━━━━━━━━━━━━━━\u001b[0m\u001b[37m\u001b[0m \u001b[1m1s\u001b[0m 43ms/step - accuracy: 0.9042 - loss: 0.2034\n",
            "Epoch 47/75\n",
            "\u001b[1m11/11\u001b[0m \u001b[32m━━━━━━━━━━━━━━━━━━━━\u001b[0m\u001b[37m\u001b[0m \u001b[1m1s\u001b[0m 43ms/step - accuracy: 0.9327 - loss: 0.1760\n",
            "Epoch 48/75\n",
            "\u001b[1m11/11\u001b[0m \u001b[32m━━━━━━━━━━━━━━━━━━━━\u001b[0m\u001b[37m\u001b[0m \u001b[1m1s\u001b[0m 43ms/step - accuracy: 0.9095 - loss: 0.2210\n",
            "Epoch 49/75\n",
            "\u001b[1m11/11\u001b[0m \u001b[32m━━━━━━━━━━━━━━━━━━━━\u001b[0m\u001b[37m\u001b[0m \u001b[1m1s\u001b[0m 43ms/step - accuracy: 0.9183 - loss: 0.1969\n",
            "Epoch 50/75\n",
            "\u001b[1m11/11\u001b[0m \u001b[32m━━━━━━━━━━━━━━━━━━━━\u001b[0m\u001b[37m\u001b[0m \u001b[1m0s\u001b[0m 44ms/step - accuracy: 0.9093 - loss: 0.1906\n",
            "Epoch 51/75\n",
            "\u001b[1m11/11\u001b[0m \u001b[32m━━━━━━━━━━━━━━━━━━━━\u001b[0m\u001b[37m\u001b[0m \u001b[1m0s\u001b[0m 43ms/step - accuracy: 0.9585 - loss: 0.1241\n",
            "Epoch 52/75\n",
            "\u001b[1m11/11\u001b[0m \u001b[32m━━━━━━━━━━━━━━━━━━━━\u001b[0m\u001b[37m\u001b[0m \u001b[1m0s\u001b[0m 43ms/step - accuracy: 0.9599 - loss: 0.1037\n",
            "Epoch 53/75\n",
            "\u001b[1m11/11\u001b[0m \u001b[32m━━━━━━━━━━━━━━━━━━━━\u001b[0m\u001b[37m\u001b[0m \u001b[1m1s\u001b[0m 43ms/step - accuracy: 0.9235 - loss: 0.1323\n",
            "Epoch 54/75\n",
            "\u001b[1m11/11\u001b[0m \u001b[32m━━━━━━━━━━━━━━━━━━━━\u001b[0m\u001b[37m\u001b[0m \u001b[1m1s\u001b[0m 44ms/step - accuracy: 0.9495 - loss: 0.1247\n",
            "Epoch 55/75\n",
            "\u001b[1m11/11\u001b[0m \u001b[32m━━━━━━━━━━━━━━━━━━━━\u001b[0m\u001b[37m\u001b[0m \u001b[1m1s\u001b[0m 46ms/step - accuracy: 0.9344 - loss: 0.1823\n",
            "Epoch 56/75\n",
            "\u001b[1m11/11\u001b[0m \u001b[32m━━━━━━━━━━━━━━━━━━━━\u001b[0m\u001b[37m\u001b[0m \u001b[1m1s\u001b[0m 44ms/step - accuracy: 0.9647 - loss: 0.1230\n",
            "Epoch 57/75\n",
            "\u001b[1m11/11\u001b[0m \u001b[32m━━━━━━━━━━━━━━━━━━━━\u001b[0m\u001b[37m\u001b[0m \u001b[1m1s\u001b[0m 44ms/step - accuracy: 0.9208 - loss: 0.1675\n",
            "Epoch 58/75\n",
            "\u001b[1m11/11\u001b[0m \u001b[32m━━━━━━━━━━━━━━━━━━━━\u001b[0m\u001b[37m\u001b[0m \u001b[1m1s\u001b[0m 45ms/step - accuracy: 0.9573 - loss: 0.1143\n",
            "Epoch 59/75\n",
            "\u001b[1m11/11\u001b[0m \u001b[32m━━━━━━━━━━━━━━━━━━━━\u001b[0m\u001b[37m\u001b[0m \u001b[1m1s\u001b[0m 44ms/step - accuracy: 0.9653 - loss: 0.1099\n",
            "Epoch 60/75\n",
            "\u001b[1m11/11\u001b[0m \u001b[32m━━━━━━━━━━━━━━━━━━━━\u001b[0m\u001b[37m\u001b[0m \u001b[1m1s\u001b[0m 45ms/step - accuracy: 0.9234 - loss: 0.1576\n",
            "Epoch 61/75\n",
            "\u001b[1m11/11\u001b[0m \u001b[32m━━━━━━━━━━━━━━━━━━━━\u001b[0m\u001b[37m\u001b[0m \u001b[1m1s\u001b[0m 44ms/step - accuracy: 0.9776 - loss: 0.0730\n",
            "Epoch 62/75\n",
            "\u001b[1m11/11\u001b[0m \u001b[32m━━━━━━━━━━━━━━━━━━━━\u001b[0m\u001b[37m\u001b[0m \u001b[1m1s\u001b[0m 42ms/step - accuracy: 0.8908 - loss: 0.2940\n",
            "Epoch 63/75\n",
            "\u001b[1m11/11\u001b[0m \u001b[32m━━━━━━━━━━━━━━━━━━━━\u001b[0m\u001b[37m\u001b[0m \u001b[1m0s\u001b[0m 43ms/step - accuracy: 0.8956 - loss: 0.2561\n",
            "Epoch 64/75\n",
            "\u001b[1m11/11\u001b[0m \u001b[32m━━━━━━━━━━━━━━━━━━━━\u001b[0m\u001b[37m\u001b[0m \u001b[1m1s\u001b[0m 42ms/step - accuracy: 0.9803 - loss: 0.0847\n",
            "Epoch 65/75\n",
            "\u001b[1m11/11\u001b[0m \u001b[32m━━━━━━━━━━━━━━━━━━━━\u001b[0m\u001b[37m\u001b[0m \u001b[1m1s\u001b[0m 43ms/step - accuracy: 0.9188 - loss: 0.1999\n",
            "Epoch 66/75\n",
            "\u001b[1m11/11\u001b[0m \u001b[32m━━━━━━━━━━━━━━━━━━━━\u001b[0m\u001b[37m\u001b[0m \u001b[1m0s\u001b[0m 43ms/step - accuracy: 0.9203 - loss: 0.1988\n",
            "Epoch 67/75\n",
            "\u001b[1m11/11\u001b[0m \u001b[32m━━━━━━━━━━━━━━━━━━━━\u001b[0m\u001b[37m\u001b[0m \u001b[1m0s\u001b[0m 43ms/step - accuracy: 0.9699 - loss: 0.1138\n",
            "Epoch 68/75\n",
            "\u001b[1m11/11\u001b[0m \u001b[32m━━━━━━━━━━━━━━━━━━━━\u001b[0m\u001b[37m\u001b[0m \u001b[1m0s\u001b[0m 43ms/step - accuracy: 0.9671 - loss: 0.0850\n",
            "Epoch 69/75\n",
            "\u001b[1m11/11\u001b[0m \u001b[32m━━━━━━━━━━━━━━━━━━━━\u001b[0m\u001b[37m\u001b[0m \u001b[1m1s\u001b[0m 43ms/step - accuracy: 0.9829 - loss: 0.0586\n",
            "Epoch 70/75\n",
            "\u001b[1m11/11\u001b[0m \u001b[32m━━━━━━━━━━━━━━━━━━━━\u001b[0m\u001b[37m\u001b[0m \u001b[1m1s\u001b[0m 43ms/step - accuracy: 0.9752 - loss: 0.0574\n",
            "Epoch 71/75\n",
            "\u001b[1m11/11\u001b[0m \u001b[32m━━━━━━━━━━━━━━━━━━━━\u001b[0m\u001b[37m\u001b[0m \u001b[1m1s\u001b[0m 43ms/step - accuracy: 0.9835 - loss: 0.0516\n",
            "Epoch 72/75\n",
            "\u001b[1m11/11\u001b[0m \u001b[32m━━━━━━━━━━━━━━━━━━━━\u001b[0m\u001b[37m\u001b[0m \u001b[1m1s\u001b[0m 44ms/step - accuracy: 0.9717 - loss: 0.0624\n",
            "Epoch 73/75\n",
            "\u001b[1m11/11\u001b[0m \u001b[32m━━━━━━━━━━━━━━━━━━━━\u001b[0m\u001b[37m\u001b[0m \u001b[1m1s\u001b[0m 43ms/step - accuracy: 0.9293 - loss: 0.1730\n",
            "Epoch 74/75\n",
            "\u001b[1m11/11\u001b[0m \u001b[32m━━━━━━━━━━━━━━━━━━━━\u001b[0m\u001b[37m\u001b[0m \u001b[1m1s\u001b[0m 44ms/step - accuracy: 0.9543 - loss: 0.1350\n",
            "Epoch 75/75\n",
            "\u001b[1m11/11\u001b[0m \u001b[32m━━━━━━━━━━━━━━━━━━━━\u001b[0m\u001b[37m\u001b[0m \u001b[1m1s\u001b[0m 44ms/step - accuracy: 0.9397 - loss: 0.1358\n"
          ]
        }
      ]
    },
    {
      "cell_type": "code",
      "source": [
        "plt.plot(historico.history['loss'])"
      ],
      "metadata": {
        "colab": {
          "base_uri": "https://localhost:8080/",
          "height": 447
        },
        "id": "tahKJPfU7abf",
        "outputId": "ff011cb8-ed6f-4d9f-dbb3-106163b76b9c"
      },
      "execution_count": 31,
      "outputs": [
        {
          "output_type": "execute_result",
          "data": {
            "text/plain": [
              "[<matplotlib.lines.Line2D at 0x7b5aacb0f0d0>]"
            ]
          },
          "metadata": {},
          "execution_count": 31
        },
        {
          "output_type": "display_data",
          "data": {
            "text/plain": [
              "<Figure size 640x480 with 1 Axes>"
            ],
            "image/png": "[encoded data removed]"
          },
          "metadata": {}
        }
      ]
    },
    {
      "cell_type": "code",
      "source": [
        "plt.plot(historico.history['accuracy'])"
      ],
      "metadata": {
        "colab": {
          "base_uri": "https://localhost:8080/",
          "height": 451
        },
        "id": "Hn1cFd-f-RK-",
        "outputId": "09b271b9-4b09-438c-99ce-5ddf278463cd"
      },
      "execution_count": 32,
      "outputs": [
        {
          "output_type": "execute_result",
          "data": {
            "text/plain": [
              "[<matplotlib.lines.Line2D at 0x7b5a653aa410>]"
            ]
          },
          "metadata": {},
          "execution_count": 32
        },
        {
          "output_type": "display_data",
          "data": {
            "text/plain": [
              "<Figure size 640x480 with 1 Axes>"
            ],
            "image/png": "[encoded data removed]"
          },
          "metadata": {}
        }
      ]
    },
    {
      "cell_type": "code",
      "source": [
        "previsoes = network1.predict(X_teste)"
      ],
      "metadata": {
        "colab": {
          "base_uri": "https://localhost:8080/"
        },
        "id": "T-Jku1Ae-ZOp",
        "outputId": "b100cac4-21ac-4cf9-fae2-2b1646760e53"
      },
      "execution_count": 33,
      "outputs": [
        {
          "output_type": "stream",
          "name": "stdout",
          "text": [
            "\u001b[1m5/5\u001b[0m \u001b[32m━━━━━━━━━━━━━━━━━━━━\u001b[0m\u001b[37m\u001b[0m \u001b[1m1s\u001b[0m 154ms/step\n"
          ]
        }
      ]
    },
    {
      "cell_type": "code",
      "source": [
        "previsoes = (previsoes > 0.5)\n",
        "previsoes"
      ],
      "metadata": {
        "colab": {
          "base_uri": "https://localhost:8080/"
        },
        "id": "jdNKr40Y-lZB",
        "outputId": "f3ae9af5-ca5b-40df-a21c-ad1db37d7b21"
      },
      "execution_count": 34,
      "outputs": [
        {
          "output_type": "execute_result",
          "data": {
            "text/plain": [
              "array([[False],\n",
              "       [False],\n",
              "       [False],\n",
              "       [False],\n",
              "       [False],\n",
              "       [False],\n",
              "       [False],\n",
              "       [False],\n",
              "       [False],\n",
              "       [False],\n",
              "       [ True],\n",
              "       [False],\n",
              "       [False],\n",
              "       [False],\n",
              "       [False],\n",
              "       [False],\n",
              "       [False],\n",
              "       [False],\n",
              "       [False],\n",
              "       [False],\n",
              "       [False],\n",
              "       [False],\n",
              "       [ True],\n",
              "       [ True],\n",
              "       [False],\n",
              "       [False],\n",
              "       [False],\n",
              "       [False],\n",
              "       [False],\n",
              "       [False],\n",
              "       [False],\n",
              "       [ True],\n",
              "       [False],\n",
              "       [ True],\n",
              "       [False],\n",
              "       [False],\n",
              "       [ True],\n",
              "       [False],\n",
              "       [ True],\n",
              "       [ True],\n",
              "       [False],\n",
              "       [False],\n",
              "       [False],\n",
              "       [False],\n",
              "       [ True],\n",
              "       [False],\n",
              "       [ True],\n",
              "       [False],\n",
              "       [ True],\n",
              "       [False],\n",
              "       [False],\n",
              "       [False],\n",
              "       [False],\n",
              "       [ True],\n",
              "       [ True],\n",
              "       [False],\n",
              "       [ True],\n",
              "       [False],\n",
              "       [False],\n",
              "       [False],\n",
              "       [False],\n",
              "       [ True],\n",
              "       [False],\n",
              "       [False],\n",
              "       [ True],\n",
              "       [False],\n",
              "       [ True],\n",
              "       [False],\n",
              "       [False],\n",
              "       [False],\n",
              "       [False],\n",
              "       [False],\n",
              "       [False],\n",
              "       [False],\n",
              "       [False],\n",
              "       [ True],\n",
              "       [False],\n",
              "       [False],\n",
              "       [ True],\n",
              "       [False],\n",
              "       [False],\n",
              "       [False],\n",
              "       [False],\n",
              "       [ True],\n",
              "       [False],\n",
              "       [False],\n",
              "       [ True],\n",
              "       [False],\n",
              "       [False],\n",
              "       [False],\n",
              "       [False],\n",
              "       [False],\n",
              "       [ True],\n",
              "       [False],\n",
              "       [False],\n",
              "       [False],\n",
              "       [False],\n",
              "       [False],\n",
              "       [False],\n",
              "       [False],\n",
              "       [False],\n",
              "       [ True],\n",
              "       [ True],\n",
              "       [False],\n",
              "       [False],\n",
              "       [False],\n",
              "       [False],\n",
              "       [False],\n",
              "       [False],\n",
              "       [False],\n",
              "       [False],\n",
              "       [False],\n",
              "       [False],\n",
              "       [ True],\n",
              "       [False],\n",
              "       [False],\n",
              "       [False],\n",
              "       [False],\n",
              "       [False],\n",
              "       [ True],\n",
              "       [ True],\n",
              "       [False],\n",
              "       [False],\n",
              "       [False],\n",
              "       [False],\n",
              "       [False],\n",
              "       [ True],\n",
              "       [False],\n",
              "       [False],\n",
              "       [False],\n",
              "       [False],\n",
              "       [False],\n",
              "       [ True],\n",
              "       [False],\n",
              "       [False],\n",
              "       [False],\n",
              "       [ True],\n",
              "       [False],\n",
              "       [False],\n",
              "       [False],\n",
              "       [False],\n",
              "       [False],\n",
              "       [False],\n",
              "       [False],\n",
              "       [False],\n",
              "       [ True],\n",
              "       [False],\n",
              "       [False],\n",
              "       [False],\n",
              "       [False],\n",
              "       [False]])"
            ]
          },
          "metadata": {},
          "execution_count": 34
        }
      ]
    },
    {
      "cell_type": "code",
      "source": [
        "y_teste"
      ],
      "metadata": {
        "colab": {
          "base_uri": "https://localhost:8080/"
        },
        "id": "hwH9ZQtC-vfW",
        "outputId": "d2e94182-bc60-4e90-d863-bc802bc3ce8d"
      },
      "execution_count": 35,
      "outputs": [
        {
          "output_type": "execute_result",
          "data": {
            "text/plain": [
              "array([0, 0, 0, 0, 0, 0, 0, 0, 0, 0, 0, 0, 0, 0, 0, 0, 0, 0, 0, 0, 0, 0,\n",
              "       1, 1, 0, 0, 0, 0, 0, 0, 0, 1, 0, 1, 0, 0, 1, 0, 1, 0, 0, 1, 0, 0,\n",
              "       1, 0, 1, 0, 0, 0, 0, 0, 0, 1, 1, 0, 1, 0, 0, 0, 0, 0, 0, 1, 1, 0,\n",
              "       0, 0, 0, 0, 0, 0, 0, 0, 0, 1, 0, 0, 1, 0, 0, 0, 0, 1, 0, 0, 1, 0,\n",
              "       0, 0, 0, 0, 1, 0, 1, 0, 0, 0, 0, 0, 1, 1, 1, 0, 1, 0, 0, 0, 0, 0,\n",
              "       0, 0, 1, 1, 0, 0, 0, 0, 0, 1, 1, 0, 0, 0, 0, 0, 1, 0, 0, 0, 0, 0,\n",
              "       1, 0, 0, 0, 1, 1, 0, 0, 0, 0, 0, 0, 0, 1, 0, 0, 0, 0, 0])"
            ]
          },
          "metadata": {},
          "execution_count": 35
        }
      ]
    },
    {
      "cell_type": "code",
      "source": [
        "from sklearn.metrics import accuracy_score\n",
        "accuracy_score(y_teste, previsoes)"
      ],
      "metadata": {
        "colab": {
          "base_uri": "https://localhost:8080/"
        },
        "id": "J1A4909S_AWg",
        "outputId": "7414d439-d992-41b1-fdfb-26da66ece27f"
      },
      "execution_count": 36,
      "outputs": [
        {
          "output_type": "execute_result",
          "data": {
            "text/plain": [
              "0.9205298013245033"
            ]
          },
          "metadata": {},
          "execution_count": 36
        }
      ]
    },
    {
      "cell_type": "code",
      "source": [
        "from sklearn.metrics import confusion_matrix\n",
        "cm = confusion_matrix(y_teste, previsoes)\n",
        "cm"
      ],
      "metadata": {
        "colab": {
          "base_uri": "https://localhost:8080/"
        },
        "id": "nNX-gLdT_Orx",
        "outputId": "9222e96d-c34f-46ff-ce9c-86ed979f416c"
      },
      "execution_count": 37,
      "outputs": [
        {
          "output_type": "execute_result",
          "data": {
            "text/plain": [
              "array([[113,   5],\n",
              "       [  7,  26]])"
            ]
          },
          "metadata": {},
          "execution_count": 37
        }
      ]
    },
    {
      "cell_type": "code",
      "source": [
        "sns.heatmap(cm, annot=True);"
      ],
      "metadata": {
        "colab": {
          "base_uri": "https://localhost:8080/",
          "height": 430
        },
        "id": "Np-2IqP7_d8G",
        "outputId": "e58c13ae-d6d6-4ed9-9745-8b1bba6a1b8f"
      },
      "execution_count": 39,
      "outputs": [
        {
          "output_type": "display_data",
          "data": {
            "text/plain": [
              "<Figure size 640x480 with 2 Axes>"
            ],
            "image/png": "[encoded data removed]"
          },
          "metadata": {}
        }
      ]
    },
    {
      "cell_type": "code",
      "source": [
        "from sklearn.metrics import classification_report\n",
        "print(classification_report(y_teste, previsoes))"
      ],
      "metadata": {
        "colab": {
          "base_uri": "https://localhost:8080/"
        },
        "id": "FKjgudU3_5jP",
        "outputId": "47a37407-2d73-4fb6-bd6a-6f2a8d956169"
      },
      "execution_count": 40,
      "outputs": [
        {
          "output_type": "stream",
          "name": "stdout",
          "text": [
            "              precision    recall  f1-score   support\n",
            "\n",
            "           0       0.94      0.96      0.95       118\n",
            "           1       0.84      0.79      0.81        33\n",
            "\n",
            "    accuracy                           0.92       151\n",
            "   macro avg       0.89      0.87      0.88       151\n",
            "weighted avg       0.92      0.92      0.92       151\n",
            "\n"
          ]
        }
      ]
    },
    {
      "cell_type": "code",
      "source": [
        "model_json = network1.to_json()\n",
        "with open ('network1.json', 'w') as json_file:\n",
        "  json_file.write(model_json)"
      ],
      "metadata": {
        "id": "SJXX5nmTByBz"
      },
      "execution_count": 41,
      "outputs": []
    },
    {
      "cell_type": "code",
      "source": [
        "from keras.models import save_model\n",
        "network1_saved = save_model(network1, 'weights1.hdf5')"
      ],
      "metadata": {
        "colab": {
          "base_uri": "https://localhost:8080/"
        },
        "id": "1Tlfp0AkCXAV",
        "outputId": "15694507-2eb6-41e7-d829-b6481746f48e"
      },
      "execution_count": 42,
      "outputs": [
        {
          "output_type": "stream",
          "name": "stderr",
          "text": [
            "WARNING:absl:You are saving your model as an HDF5 file via `model.save()` or `keras.saving.save_model(model)`. This file format is considered legacy. We recommend using instead the native Keras format, e.g. `model.save('my_model.keras')` or `keras.saving.save_model(model, 'my_model.keras')`. \n"
          ]
        }
      ]
    },
    {
      "cell_type": "code",
      "source": [
        "with open('network1.json') as json_file:\n",
        "  json_saved_model = json_file.read()\n",
        "json_saved_model"
      ],
      "metadata": {
        "colab": {
          "base_uri": "https://localhost:8080/",
          "height": 244
        },
        "id": "xIxjF2GCC8JX",
        "outputId": "7d59eeac-7aeb-476d-c465-84178aebac76"
      },
      "execution_count": 43,
      "outputs": [
        {
          "output_type": "execute_result",
          "data": {
            "text/plain": [
              "'{\"module\": \"keras\", \"class_name\": \"Sequential\", \"config\": {\"name\": \"sequential_1\", \"trainable\": true, \"dtype\": {\"module\": \"keras\", \"class_name\": \"DTypePolicy\", \"config\": {\"name\": \"float32\"}, \"registered_name\": null}, \"layers\": [{\"module\": \"keras.layers\", \"class_name\": \"InputLayer\", \"config\": {\"batch_shape\": [null, 16384], \"dtype\": \"float32\", \"sparse\": false, \"name\": \"input_layer_1\"}, \"registered_name\": null}, {\"module\": \"keras.layers\", \"class_name\": \"Dense\", \"config\": {\"name\": \"dense_3\", \"trainable\": true, \"dtype\": {\"module\": \"keras\", \"class_name\": \"DTypePolicy\", \"config\": {\"name\": \"float32\"}, \"registered_name\": null}, \"units\": 8193, \"activation\": \"relu\", \"use_bias\": true, \"kernel_initializer\": {\"module\": \"keras.initializers\", \"class_name\": \"GlorotUniform\", \"config\": {\"seed\": null}, \"registered_name\": null}, \"bias_initializer\": {\"module\": \"keras.initializers\", \"class_name\": \"Zeros\", \"config\": {}, \"registered_name\": null}, \"kernel_regularizer\": null, \"bias_regularizer\": null, \"kernel_constraint\": null, \"bias_constraint\": null}, \"registered_name\": null, \"build_config\": {\"input_shape\": [null, 16384]}}, {\"module\": \"keras.layers\", \"class_name\": \"Dense\", \"config\": {\"name\": \"dense_4\", \"trainable\": true, \"dtype\": {\"module\": \"keras\", \"class_name\": \"DTypePolicy\", \"config\": {\"name\": \"float32\"}, \"registered_name\": null}, \"units\": 8193, \"activation\": \"relu\", \"use_bias\": true, \"kernel_initializer\": {\"module\": \"keras.initializers\", \"class_name\": \"GlorotUniform\", \"config\": {\"seed\": null}, \"registered_name\": null}, \"bias_initializer\": {\"module\": \"keras.initializers\", \"class_name\": \"Zeros\", \"config\": {}, \"registered_name\": null}, \"kernel_regularizer\": null, \"bias_regularizer\": null, \"kernel_constraint\": null, \"bias_constraint\": null}, \"registered_name\": null, \"build_config\": {\"input_shape\": [null, 8193]}}, {\"module\": \"keras.layers\", \"class_name\": \"Dense\", \"config\": {\"name\": \"dense_5\", \"trainable\": true, \"dtype\": {\"module\": \"keras\", \"class_name\": \"DTypePolicy\", \"config\": {\"name\": \"float32\"}, \"registered_name\": null}, \"units\": 1, \"activation\": \"sigmoid\", \"use_bias\": true, \"kernel_initializer\": {\"module\": \"keras.initializers\", \"class_name\": \"GlorotUniform\", \"config\": {\"seed\": null}, \"registered_name\": null}, \"bias_initializer\": {\"module\": \"keras.initializers\", \"class_name\": \"Zeros\", \"config\": {}, \"registered_name\": null}, \"kernel_regularizer\": null, \"bias_regularizer\": null, \"kernel_constraint\": null, \"bias_constraint\": null}, \"registered_name\": null, \"build_config\": {\"input_shape\": [null, 8193]}}], \"build_input_shape\": [null, 16384]}, \"registered_name\": null, \"build_config\": {\"input_shape\": [null, 16384]}, \"compile_config\": {\"optimizer\": {\"module\": \"keras.optimizers\", \"class_name\": \"Adam\", \"config\": {\"name\": \"adam\", \"learning_rate\": 0.0010000000474974513, \"weight_decay\": null, \"clipnorm\": null, \"global_clipnorm\": null, \"clipvalue\": null, \"use_ema\": false, \"ema_momentum\": 0.99, \"ema_overwrite_frequency\": null, \"loss_scale_factor\": null, \"gradient_accumulation_steps\": null, \"beta_1\": 0.9, \"beta_2\": 0.999, \"epsilon\": 1e-07, \"amsgrad\": false}, \"registered_name\": null}, \"loss\": \"binary_crossentropy\", \"loss_weights\": null, \"metrics\": [\"accuracy\"], \"weighted_metrics\": null, \"run_eagerly\": false, \"steps_per_execution\": 1, \"jit_compile\": true}}'"
            ],
            "application/vnd.google.colaboratory.intrinsic+json": {
              "type": "string"
            }
          },
          "metadata": {},
          "execution_count": 43
        }
      ]
    },
    {
      "cell_type": "code",
      "source": [
        "network1_loaded = tf.keras.models.model_from_json(json_saved_model)\n",
        "network1_loaded.load_weights('/content/weights1.hdf5')\n",
        "network1_loaded.compile(loss = 'binary_crossentropy', optimizer = 'Adam', metrics = ['accuracy'])"
      ],
      "metadata": {
        "id": "YkQmDn7eDRJ6"
      },
      "execution_count": 44,
      "outputs": []
    },
    {
      "cell_type": "code",
      "source": [
        "network1_loaded.summary()"
      ],
      "metadata": {
        "colab": {
          "base_uri": "https://localhost:8080/",
          "height": 253
        },
        "id": "e8jmRuXTEA1g",
        "outputId": "de15e28e-0137-45fb-9142-4d5bd5216170"
      },
      "execution_count": 45,
      "outputs": [
        {
          "output_type": "display_data",
          "data": {
            "text/plain": [
              "\u001b[1mModel: \"sequential_1\"\u001b[0m\n"
            ],
            "text/html": [
              "<pre style=\"white-space:pre;overflow-x:auto;line-height:normal;font-family:Menlo,'DejaVu Sans Mono',consolas,'Courier New',monospace\"><span style=\"font-weight: bold\">Model: \"sequential_1\"</span>\n",
              "</pre>\n"
            ]
          },
          "metadata": {}
        },
        {
          "output_type": "display_data",
          "data": {
            "text/plain": [
              "┏━━━━━━━━━━━━━━━━━━━━━━━━━━━━━━━━━━━━━━┳━━━━━━━━━━━━━━━━━━━━━━━━━━━━━┳━━━━━━━━━━━━━━━━━┓\n",
              "┃\u001b[1m \u001b[0m\u001b[1mLayer (type)                        \u001b[0m\u001b[1m \u001b[0m┃\u001b[1m \u001b[0m\u001b[1mOutput Shape               \u001b[0m\u001b[1m \u001b[0m┃\u001b[1m \u001b[0m\u001b[1m        Param #\u001b[0m\u001b[1m \u001b[0m┃\n",
              "┡━━━━━━━━━━━━━━━━━━━━━━━━━━━━━━━━━━━━━━╇━━━━━━━━━━━━━━━━━━━━━━━━━━━━━╇━━━━━━━━━━━━━━━━━┩\n",
              "│ dense_3 (\u001b[38;5;33mDense\u001b[0m)                      │ (\u001b[38;5;45mNone\u001b[0m, \u001b[38;5;34m8193\u001b[0m)                │     \u001b[38;5;34m134,242,305\u001b[0m │\n",
              "├──────────────────────────────────────┼─────────────────────────────┼─────────────────┤\n",
              "│ dense_4 (\u001b[38;5;33mDense\u001b[0m)                      │ (\u001b[38;5;45mNone\u001b[0m, \u001b[38;5;34m8193\u001b[0m)                │      \u001b[38;5;34m67,133,442\u001b[0m │\n",
              "├──────────────────────────────────────┼─────────────────────────────┼─────────────────┤\n",
              "│ dense_5 (\u001b[38;5;33mDense\u001b[0m)                      │ (\u001b[38;5;45mNone\u001b[0m, \u001b[38;5;34m1\u001b[0m)                   │           \u001b[38;5;34m8,194\u001b[0m │\n",
              "└──────────────────────────────────────┴─────────────────────────────┴─────────────────┘\n"
            ],
            "text/html": [
              "<pre style=\"white-space:pre;overflow-x:auto;line-height:normal;font-family:Menlo,'DejaVu Sans Mono',consolas,'Courier New',monospace\">┏━━━━━━━━━━━━━━━━━━━━━━━━━━━━━━━━━━━━━━┳━━━━━━━━━━━━━━━━━━━━━━━━━━━━━┳━━━━━━━━━━━━━━━━━┓\n",
              "┃<span style=\"font-weight: bold\"> Layer (type)                         </span>┃<span style=\"font-weight: bold\"> Output Shape                </span>┃<span style=\"font-weight: bold\">         Param # </span>┃\n",
              "┡━━━━━━━━━━━━━━━━━━━━━━━━━━━━━━━━━━━━━━╇━━━━━━━━━━━━━━━━━━━━━━━━━━━━━╇━━━━━━━━━━━━━━━━━┩\n",
              "│ dense_3 (<span style=\"color: #0087ff; text-decoration-color: #0087ff\">Dense</span>)                      │ (<span style=\"color: #00d7ff; text-decoration-color: #00d7ff\">None</span>, <span style=\"color: #00af00; text-decoration-color: #00af00\">8193</span>)                │     <span style=\"color: #00af00; text-decoration-color: #00af00\">134,242,305</span> │\n",
              "├──────────────────────────────────────┼─────────────────────────────┼─────────────────┤\n",
              "│ dense_4 (<span style=\"color: #0087ff; text-decoration-color: #0087ff\">Dense</span>)                      │ (<span style=\"color: #00d7ff; text-decoration-color: #00d7ff\">None</span>, <span style=\"color: #00af00; text-decoration-color: #00af00\">8193</span>)                │      <span style=\"color: #00af00; text-decoration-color: #00af00\">67,133,442</span> │\n",
              "├──────────────────────────────────────┼─────────────────────────────┼─────────────────┤\n",
              "│ dense_5 (<span style=\"color: #0087ff; text-decoration-color: #0087ff\">Dense</span>)                      │ (<span style=\"color: #00d7ff; text-decoration-color: #00d7ff\">None</span>, <span style=\"color: #00af00; text-decoration-color: #00af00\">1</span>)                   │           <span style=\"color: #00af00; text-decoration-color: #00af00\">8,194</span> │\n",
              "└──────────────────────────────────────┴─────────────────────────────┴─────────────────┘\n",
              "</pre>\n"
            ]
          },
          "metadata": {}
        },
        {
          "output_type": "display_data",
          "data": {
            "text/plain": [
              "\u001b[1m Total params: \u001b[0m\u001b[38;5;34m201,383,941\u001b[0m (768.22 MB)\n"
            ],
            "text/html": [
              "<pre style=\"white-space:pre;overflow-x:auto;line-height:normal;font-family:Menlo,'DejaVu Sans Mono',consolas,'Courier New',monospace\"><span style=\"font-weight: bold\"> Total params: </span><span style=\"color: #00af00; text-decoration-color: #00af00\">201,383,941</span> (768.22 MB)\n",
              "</pre>\n"
            ]
          },
          "metadata": {}
        },
        {
          "output_type": "display_data",
          "data": {
            "text/plain": [
              "\u001b[1m Trainable params: \u001b[0m\u001b[38;5;34m201,383,941\u001b[0m (768.22 MB)\n"
            ],
            "text/html": [
              "<pre style=\"white-space:pre;overflow-x:auto;line-height:normal;font-family:Menlo,'DejaVu Sans Mono',consolas,'Courier New',monospace\"><span style=\"font-weight: bold\"> Trainable params: </span><span style=\"color: #00af00; text-decoration-color: #00af00\">201,383,941</span> (768.22 MB)\n",
              "</pre>\n"
            ]
          },
          "metadata": {}
        },
        {
          "output_type": "display_data",
          "data": {
            "text/plain": [
              "\u001b[1m Non-trainable params: \u001b[0m\u001b[38;5;34m0\u001b[0m (0.00 B)\n"
            ],
            "text/html": [
              "<pre style=\"white-space:pre;overflow-x:auto;line-height:normal;font-family:Menlo,'DejaVu Sans Mono',consolas,'Courier New',monospace\"><span style=\"font-weight: bold\"> Non-trainable params: </span><span style=\"color: #00af00; text-decoration-color: #00af00\">0</span> (0.00 B)\n",
              "</pre>\n"
            ]
          },
          "metadata": {}
        }
      ]
    },
    {
      "cell_type": "code",
      "source": [
        "test_img = 76\n",
        "X_teste[test_img], y_teste[test_img]"
      ],
      "metadata": {
        "colab": {
          "base_uri": "https://localhost:8080/"
        },
        "id": "GuPs1hTvERAw",
        "outputId": "e1d82053-47c4-4c94-b6be-38dbb71b8b86"
      },
      "execution_count": 85,
      "outputs": [
        {
          "output_type": "execute_result",
          "data": {
            "text/plain": [
              "(array([1.        , 1.        , 0.995     , ..., 0.03111111, 0.03448276,\n",
              "        0.03587444]),\n",
              " 0)"
            ]
          },
          "metadata": {},
          "execution_count": 85
        }
      ]
    },
    {
      "cell_type": "code",
      "source": [
        "cv2_imshow(X_teste[test_img].reshape(128,128))"
      ],
      "metadata": {
        "colab": {
          "base_uri": "https://localhost:8080/",
          "height": 145
        },
        "id": "u1zMEKjjLJJt",
        "outputId": "1ed52b6a-9141-4357-91f0-3c076d19c5ba"
      },
      "execution_count": 86,
      "outputs": [
        {
          "output_type": "display_data",
          "data": {
            "text/plain": [
              "<PIL.Image.Image image mode=L size=128x128>"
            ],
            "image/png": "[encoded data removed]",
            "image/jpeg": "[encoded data removed]"
          },
          "metadata": {}
        }
      ]
    },
    {
      "cell_type": "code",
      "source": [
        "imagem_teste = X_teste[test_img]\n",
        "imagem_teste = scaler.inverse_transform(imagem_teste.reshape(1, -1))"
      ],
      "metadata": {
        "id": "jXFB9g03Ldp7"
      },
      "execution_count": 87,
      "outputs": []
    },
    {
      "cell_type": "code",
      "source": [
        "imagem_teste"
      ],
      "metadata": {
        "colab": {
          "base_uri": "https://localhost:8080/"
        },
        "id": "9SYFv8u4LzSB",
        "outputId": "06a74c34-1827-4267-e26f-1dbdb9088b66"
      },
      "execution_count": 88,
      "outputs": [
        {
          "output_type": "execute_result",
          "data": {
            "text/plain": [
              "array([[254., 254., 253., ...,  36.,  30.,  39.]])"
            ]
          },
          "metadata": {},
          "execution_count": 88
        }
      ]
    },
    {
      "cell_type": "code",
      "source": [
        "cv2_imshow(imagem_teste.reshape(128,128))"
      ],
      "metadata": {
        "colab": {
          "base_uri": "https://localhost:8080/",
          "height": 145
        },
        "id": "sQyvS28yL1D3",
        "outputId": "cc5020dc-eed0-4bcf-b8d3-ac1e00a79131"
      },
      "execution_count": 89,
      "outputs": [
        {
          "output_type": "display_data",
          "data": {
            "text/plain": [
              "<PIL.Image.Image image mode=L size=128x128>"
            ],
            "image/png": "[encoded data removed]",
            "image/jpeg": "[encoded data removed]"
          },
          "metadata": {}
        }
      ]
    },
    {
      "cell_type": "code",
      "source": [
        "print(network1_loaded.predict(imagem_teste) [0][0])\n",
        "if network1_loaded.predict(imagem_teste) [0][0] < 0.5:\n",
        "  print('Image with cow')\n",
        "else:\n",
        "  print('Image without cow')"
      ],
      "metadata": {
        "colab": {
          "base_uri": "https://localhost:8080/"
        },
        "id": "teGN8pWwL_Xo",
        "outputId": "0eac7dd4-70f5-4adf-ed2c-ae2f1047c171"
      },
      "execution_count": 90,
      "outputs": [
        {
          "output_type": "stream",
          "name": "stdout",
          "text": [
            "\u001b[1m1/1\u001b[0m \u001b[32m━━━━━━━━━━━━━━━━━━━━\u001b[0m\u001b[37m\u001b[0m \u001b[1m0s\u001b[0m 16ms/step\n",
            "0.0\n",
            "\u001b[1m1/1\u001b[0m \u001b[32m━━━━━━━━━━━━━━━━━━━━\u001b[0m\u001b[37m\u001b[0m \u001b[1m0s\u001b[0m 14ms/step\n",
            "Image with cow\n"
          ]
        }
      ]
    },
    {
      "cell_type": "code",
      "source": [],
      "metadata": {
        "id": "Ptnwg8lrMT-3"
      },
      "execution_count": 90,
      "outputs": []
    }
  ]
}